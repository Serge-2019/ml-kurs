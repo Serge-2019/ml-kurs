{
 "cells": [
  {
   "cell_type": "markdown",
   "metadata": {
    "colab_type": "text",
    "id": "og1FpojHjY4h"
   },
   "source": [
    "# Библиотеки, функции"
   ]
  },
  {
   "cell_type": "markdown",
   "metadata": {
    "colab_type": "text",
    "id": "vG1z4ePBmrk2"
   },
   "source": [
    "### Libraries"
   ]
  },
  {
   "cell_type": "code",
   "execution_count": 1,
   "metadata": {
    "ExecuteTime": {
     "end_time": "2020-03-07T21:11:29.196788Z",
     "start_time": "2020-03-07T21:11:29.191702Z"
    },
    "colab": {
     "base_uri": "https://localhost:8080/",
     "height": 54
    },
    "colab_type": "code",
    "executionInfo": {
     "elapsed": 1521,
     "status": "ok",
     "timestamp": 1584532656399,
     "user": {
      "displayName": "Serge Ahranovich",
      "photoUrl": "",
      "userId": "12639209674703420060"
     },
     "user_tz": 420
    },
    "id": "-kj5bdP38l7W",
    "outputId": "46cd397a-d038-4db0-c61e-00e59b2f9234"
   },
   "outputs": [
    {
     "name": "stdout",
     "output_type": "stream",
     "text": [
      "Drive already mounted at /content/drive; to attempt to forcibly remount, call drive.mount(\"/content/drive\", force_remount=True).\n"
     ]
    }
   ],
   "source": [
    "try:\n",
    "    from google.colab import drive\n",
    "    drive.mount('/content/drive')\n",
    "    PATH='/content/drive/My Drive/Colab Notebooks/'\n",
    "except:\n",
    "    PATH = 'data/'"
   ]
  },
  {
   "cell_type": "code",
   "execution_count": 0,
   "metadata": {
    "ExecuteTime": {
     "end_time": "2020-03-07T21:11:38.699511Z",
     "start_time": "2020-03-07T21:11:31.026447Z"
    },
    "colab": {},
    "colab_type": "code",
    "id": "HO-sJb4PVODi"
   },
   "outputs": [],
   "source": [
    "import warnings\n",
    "warnings.filterwarnings(\"ignore\")\n",
    "\n",
    "from os.path import exists\n",
    "from datetime import date\n",
    "\n",
    "from fastprogress.fastprogress import master_bar, progress_bar\n",
    "\n",
    "import numpy as np\n",
    "import pandas as pd\n",
    "from matplotlib import pyplot as plt\n",
    "import seaborn as sns\n",
    "\n",
    "from sklearn.cluster import KMeans\n",
    "from sklearn.decomposition import PCA\n",
    "from sklearn.ensemble import GradientBoostingClassifier\n",
    "from sklearn.feature_selection import SelectFromModel\n",
    "from sklearn.linear_model import LogisticRegression\n",
    "from sklearn.metrics import classification_report, f1_score, roc_auc_score\n",
    "from sklearn.model_selection import ParameterGrid\n",
    "from sklearn.pipeline import make_pipeline\n",
    "from sklearn.preprocessing import StandardScaler\n",
    "from xgboost import XGBClassifier\n",
    "\n",
    "\n",
    "RANDOM_STATE = 42\n",
    "data = None\n",
    "df = None\n",
    "features = None\n",
    "\n",
    "%matplotlib inline"
   ]
  },
  {
   "cell_type": "markdown",
   "metadata": {
    "colab_type": "text",
    "id": "lXtZFBGcmmTz"
   },
   "source": [
    "### Functions"
   ]
  },
  {
   "cell_type": "code",
   "execution_count": 0,
   "metadata": {
    "colab": {},
    "colab_type": "code",
    "id": "O7EATAuQjj1-"
   },
   "outputs": [],
   "source": [
    "SAMPLING = 1.5\n",
    "\n",
    "def getTypes(df, pr=False):\n",
    "    ALL = set(df.columns)\n",
    "    types = df.dtypes\n",
    "    \n",
    "    OTH = {'id', 'buy_time', 'binsum', 'prcmean', 'bindb', 'prcdb', \n",
    "           'intdb', 'fltdb', 'cluster', 'index', 'vas_id', 'target', 'train'}\n",
    "    CAT = set(types[types == 'category'].index)\n",
    "    BIN = set(types[types == 'bool'].index) - OTH\n",
    "    PRC = set()\n",
    "    FLT = set() \n",
    "    INT = set()\n",
    "    NUM = ALL - OTH - CAT - BIN\n",
    "    mbr = progress_bar(NUM)\n",
    "    for col in mbr:\n",
    "        t = str(types[col])\n",
    "        if 'float' in t:\n",
    "            mx = df[col].max()\n",
    "            mn = df[col].min()\n",
    "            if mn>=0 and mx<=1:\n",
    "                PRC.add(col)\n",
    "            else:\n",
    "                FLT.add(col)\n",
    "        else:\n",
    "            INT.add(col)\n",
    "\n",
    "    if pr:\n",
    "        print(f'TOTAL = {len(ALL)}')\n",
    "        print(f'  BIN = {len(BIN)}')\n",
    "        print(f'  CAT = {len(CAT)}')\n",
    "        print(f'  NUM = {len(NUM)}')\n",
    "        print(f'    PRC = {len(PRC)}')\n",
    "        print(f'    FLT = {len(FLT)}')\n",
    "        print(f'    INT = {len(INT)}')\n",
    "    return (ALL, OTH, CAT, BIN, PRC, FLT, INT, NUM)\n",
    "\n",
    "def weekSampling(mnt, tmp, ml=SAMPLING):\n",
    "    sample = None\n",
    "    for i in mnt:\n",
    "        ts = tmp[tmp.index.week == i]\n",
    "        pr = ts['target'].value_counts()\n",
    "        mj, mn = pr.index\n",
    "        lv = pr[mn]\n",
    "        nn = int(min(round(lv*ml), pr[mj]))\n",
    "        arr = [\n",
    "            ts[ts['target']==mn],\n",
    "            ts[ts['target']==mj].sample(n=nn, random_state=RANDOM_STATE)\n",
    "        ]\n",
    "\n",
    "        if sample is not None: arr = [sample] + arr\n",
    "        sample = pd.concat(arr)\n",
    "    return sample\n",
    "\n",
    "def getTrainTest(df, fields, test_size=3, rnd=None, wks=SAMPLING):\n",
    "    tmp = df.set_index('buy_time').sort_index()\n",
    "    mnt = tmp.index.week.unique().to_list()\n",
    "    if rnd: np.random.seed(rnd)\n",
    "    np.random.shuffle(mnt)\n",
    "#     test_size = round(len(mnt) * test_size)\n",
    "\n",
    "    trn = weekSampling(mnt[0:-test_size], tmp, ml=wks)\n",
    "    tst = tmp[tmp.index.week.isin(mnt[-test_size:])]\n",
    "    \n",
    "    return trn[fields], tst[fields], trn['target'], tst['target']\n",
    "\n",
    "def getSample(df, size=3, rnd=None, wks=SAMPLING):\n",
    "    tmp = df.set_index('buy_time').sort_index()\n",
    "    mnt = tmp.index.week.unique().to_list()\n",
    "    if rnd: np.random.seed(rnd)\n",
    "    np.random.shuffle(mnt)\n",
    "    return weekSampling(mnt[0:size], tmp, ml=wks)\n",
    "\n",
    "def trainModel(model, train, fields):\n",
    "    tmp = train.set_index('buy_time').sort_index()\n",
    "    mnt = tmp.index.week.unique().to_list()\n",
    "    tmp = weekSampling(mnt, tmp)\n",
    "\n",
    "    return model.fit(tmp[fields], tmp['target'])\n",
    "\n",
    "def report(md, df, fields):\n",
    "    X_train, X_test, y_train, y_test = getTrainTest(df, fields)\n",
    "    \n",
    "    md.fit(X_train, y_train)\n",
    "    yp = md.predict_proba(X_test)[:,1]\n",
    "    ytp = md.predict_proba(X_train)[:,1]\n",
    "    \n",
    "    f1 = f1_score(y_test, yp >= 0.5, average='macro')\n",
    "    r1 = roc_auc_score(y_test, yp)\n",
    "    r2 = roc_auc_score(y_train, ytp)\n",
    "    \n",
    "    print('-'*100)\n",
    "    print(f'F1 (test) = {f1:0.5f}    roc (test) = {r1:0.5f}   roc (train) = {r2:0.5f}')\n",
    "    print('-'*100)\n",
    "    print(classification_report(y_test, yp>=0.5))\n",
    "    \n",
    "    import itertools\n",
    "    from sklearn.metrics import confusion_matrix\n",
    "    from sklearn.metrics import precision_recall_curve, roc_curve, auc\n",
    "\n",
    "    ytrue = y_test\n",
    "    ypred = yp\n",
    "    \n",
    "    color = 'r'\n",
    "    plt.title(\"Распределение предсказаний модели\")\n",
    "    plt.hist(ypred[~ytrue.astype(bool)], bins=100, color='r', alpha=0.5);\n",
    "    plt.hist(ypred[ytrue.astype(bool)], bins=100, color='b', alpha=0.5);\n",
    "    plt.show()\n",
    "    \n",
    "    fpr, tpr, roc_thresholds = roc_curve(ytrue, ypred)\n",
    "    plt.plot(fpr, tpr, label='ROC curve (area = %0.2f)' % (auc(fpr, tpr)), color=color)\n",
    "    plt.plot([0, 1], [0, 1], 'k--')\n",
    "    plt.axis([0.0, 1.0, 0.0, 1.05])\n",
    "    plt.xlabel('False Positive Rate')\n",
    "    plt.ylabel('True Positive Rate')\n",
    "    plt.title(\"Baseline: AUC_ROC = %.3f\" % auc(fpr, tpr))\n",
    "    plt.legend(loc=\"lower right\")\n",
    "    plt.show()\n",
    "    \n",
    "    cmap=plt.cm.Blues\n",
    "    classes=[\"0\", \"1\"]\n",
    "    th=0.5\n",
    "    normalize=True\n",
    "    \n",
    "    cm = confusion_matrix(y_test, ypred > th)\n",
    "    if normalize:\n",
    "        cm = cm.astype('float') / cm.sum(axis=1)[:, np.newaxis]\n",
    "        print(\"Normalized confusion matrix\")\n",
    "    else:\n",
    "        print('Confusion matrix, without normalization')\n",
    "\n",
    "    print(cm)\n",
    "\n",
    "    plt.imshow(cm, interpolation='nearest',  cmap=cmap)\n",
    "    \n",
    "    plt.grid(False)\n",
    "    plt.title('Confusion matrix')\n",
    "    tick_marks = np.arange(len(classes))\n",
    "    plt.xticks(tick_marks, classes, rotation=45)\n",
    "    plt.yticks(tick_marks, classes)\n",
    "\n",
    "    fmt = '.2f' if normalize else 'd'\n",
    "    thresh = cm.max() / 2.\n",
    "    for i, j in itertools.product(range(cm.shape[0]), range(cm.shape[1])):\n",
    "        plt.text(j, i, format(cm[i, j], fmt),\n",
    "                 horizontalalignment=\"center\",\n",
    "                 color=\"white\" if cm[i, j] > thresh else \"black\")\n",
    "\n",
    "    plt.ylabel('True label')\n",
    "    plt.xlabel('Predicted label')\n",
    "    plt.tight_layout()\n",
    "    plt.show()\n",
    "\n",
    "def crossValidate(model, df, fields, splits=3, prnt=None, rnd=None, wks=SAMPLING):\n",
    "    tmp = df.set_index('buy_time').sort_index()\n",
    "    mnt = tmp.index.week.unique().to_list()\n",
    "    if rnd: np.random.seed(rnd)\n",
    "    np.random.shuffle(mnt)\n",
    "    f1, f2, r1, r2 = [], [], [], []\n",
    "    mbr = progress_bar(range(splits), parent=prnt)\n",
    "    for i in mbr:\n",
    "        tst = mnt[i*splits:i*splits+splits]\n",
    "        trn = mnt[0:i*splits] + mnt[i*splits+splits:]\n",
    "        trn = weekSampling(trn, tmp, ml=wks)\n",
    "        tst = tmp[tmp.index.week.isin(tst)]\n",
    "        \n",
    "        X = trn[fields]\n",
    "        y_train = trn['target']\n",
    "        y_test = tst['target']\n",
    "        \n",
    "        model.fit(X, y_train)\n",
    "        yp = model.predict_proba(X)[:, 1]\n",
    "        yt = model.predict_proba(tst[fields])[:, 1]\n",
    "        \n",
    "        f1.append(f1_score(y_train, yp>0.5, average='macro'))\n",
    "        f2.append(f1_score(y_test, yt>0.5, average='macro'))\n",
    "        r1.append(roc_auc_score(y_train, yp))\n",
    "        r2.append(roc_auc_score(y_test, yt))\n",
    "\n",
    "    f1 = sum(f1) / splits\n",
    "    f2 = sum(f2) / splits\n",
    "    r1 = sum(r1) / splits\n",
    "    r2 = sum(r2) / splits\n",
    "\n",
    "    if not prnt:\n",
    "        print(f'{model.__class__.__name__}')\n",
    "        print(f'  TRAIN: f1 = {f1:0.5f} | roc = {r1:0.5f}')\n",
    "        print(f'   TEST: f1 = {f2:0.5f} | roc = {r2:0.5f}')\n",
    "        \n",
    "    return f1, r2, f2, r2\n",
    "\n",
    "def gridSeach(model, params_grid, df, fields, cv_splits=1):\n",
    "    plist = list(ParameterGrid(param_grid))\n",
    "    mb = master_bar(plist)\n",
    "    mxf, mxr, bst = 0, 0, {}\n",
    "    for g in mb:\n",
    "        model.set_params(**g)\n",
    "        f1, r2, f2, r2 = crossValidate(model, df, fields, \n",
    "                                        splits=cv_splits, prnt=mb, rnd=RANDOM_STATE)\n",
    "        print(f'f1 = {f2:0.5f} | roc = {r2:0.5f} | PARAMS: {g}')\n",
    "        if r2>mxr:\n",
    "            mxf = f2\n",
    "            mxr = r2\n",
    "            bst = g\n",
    "    return mxf, mxr, bst\n",
    "\n",
    "def gridSelect(param_grid, md, X_train, X_test, y_train, y_test):\n",
    "    selector = SelectFromModel(md)\n",
    "    plist = list(ParameterGrid(param_grid))\n",
    "    mb = progress_bar(plist)\n",
    "    mxf, mxr, bst = 0, 0, {}\n",
    "    for g in mb:\n",
    "        selector.set_params(**g).fit(X_train, y_train)\n",
    "        nf = X_train.columns[selector.get_support()].to_list()\n",
    "        Xr = X_train[nf]\n",
    "        Xt = X_test[nf]\n",
    "\n",
    "        md.fit(Xr, y_train)\n",
    "        yp = md.predict_proba(Xt)[:,1]\n",
    "        ytp = md.predict_proba(Xr)[:,1]\n",
    "\n",
    "        f1 = f1_score(y_train, ytp >= 0.5, average='macro')\n",
    "        f2 = f1_score(y_test, yp >= 0.5, average='macro')\n",
    "        r1 = roc_auc_score(y_train, ytp)\n",
    "        r2 = roc_auc_score(y_test, yp)\n",
    "\n",
    "        print(f'f1 = {f2:0.5f} | roc = {r2:0.5f} | roc_train = {r1:0.5f} | PARAMS: {g}')\n",
    "        if r2>mxr:\n",
    "            mxf = f2\n",
    "            mxr = r2\n",
    "            bst = nf\n",
    "    return mxf, mxr, bst\n",
    "\n",
    "def getCorrFeatures(df, fields, size=3, rnd=RANDOM_STATE):\n",
    "    tmp = getSample(df, size=size, rnd=rnd)\n",
    "    crr = tmp[set(fields)|{'target'}].corr()['target']\n",
    "    return set(crr[crr.abs()>0.05].index.to_list()) - {'target'}"
   ]
  },
  {
   "cell_type": "code",
   "execution_count": 0,
   "metadata": {
    "colab": {},
    "colab_type": "code",
    "id": "VnbH37GimzU8"
   },
   "outputs": [],
   "source": [
    "def pca_reduce(df, columns=[], rds = [(0.7, 0.15)]):\n",
    "    rs, rm, bn = set(), set(), set(columns)\n",
    "    print(f'\\nСчитаем корреляцию для {len(bn)} признаков')\n",
    "    crr = df[bn].corr().abs().unstack()\n",
    "    \n",
    "    for ts, pr in rds:\n",
    "        pr = pr or round(1-ts,2)\n",
    "        print(f' ... отбираем >= {ts}, уменьщаем на {pr:0.2f}')\n",
    "        so = crr[crr >= ts]\n",
    "        a = sorted({x[0]:len(so[x[0]].index.to_list()) for x in so.index}.items(), key=lambda x: x[1], reverse=True)\n",
    "        a = list(filter(lambda x: x[1]>1, a))\n",
    "        prog = progress_bar(a)\n",
    "        for i,k in prog:\n",
    "            cl = set(so[i].index) & bn\n",
    "            nf = len(cl)\n",
    "            if nf < 2: continue\n",
    "            nf = int(round(nf*pr)) or 1\n",
    "            if nf == len(cl) and (i not in cl):\n",
    "                print(f'пропускаем {i} - {cl}')\n",
    "                continue\n",
    "\n",
    "            pca = PCA(n_components=nf)\n",
    "            ss = pca.fit_transform(df[cl])\n",
    "\n",
    "            print(f'  \"{i}-p*\"  ({nf})  <=  {cl}')\n",
    "            for x in range(nf):\n",
    "                fld = f'{i}-p{x}'\n",
    "                df[fld] = ss[:, x].astype(float)\n",
    "                rs.add(fld)\n",
    "                rm |= cl\n",
    "\n",
    "            bn -= cl\n",
    "            df.drop(cl, axis=1, inplace=True)\n",
    "        print()\n",
    "    print(f'  добавлено = {len(rs)}, удалено = {len(rm)}, не поменялось = {len(bn)}')\n",
    "    return rs, rm, bn"
   ]
  },
  {
   "cell_type": "code",
   "execution_count": 0,
   "metadata": {
    "colab": {},
    "colab_type": "code",
    "id": "Juog5pNLy6L-"
   },
   "outputs": [],
   "source": [
    "def load_data(file, train=True):\n",
    "    tmp = pd.read_csv(PATH+file, sep=',', index_col=0)\n",
    "    tmp['buy_time'] = pd.to_datetime( tmp['buy_time'].apply(lambda x: date.fromtimestamp(x)) )\n",
    "    if not train:\n",
    "        tmp['target'] = np.NaN\n",
    "    tmp['train'] = train\n",
    "    tmp['vas_id'] = tmp['vas_id'].astype(int).astype('category')\n",
    "    return tmp\n",
    "\n",
    "def all_data():\n",
    "    return pd.concat([ load_data('data_train.csv', True), load_data('data_test.csv', False) ]).reset_index()\n",
    "\n",
    "def updateByQuantile(dd):\n",
    "    Q1 = dd.quantile(0.20)\n",
    "    Q3 = dd.quantile(0.80)\n",
    "    mn = dd.mean()\n",
    "    IQR = Q3 - Q1\n",
    "    flt = (dd < (Q1 - 1.5 * IQR)) | (dd > (Q3 + 1.5 * IQR))\n",
    "    bf = len(dd[flt])\n",
    "    dd[flt] = mn\n",
    "    return bf\n",
    "\n",
    "def plotcorr(corr, w=20, h=15):\n",
    "    f, ax = plt.subplots(figsize=(w, h))\n",
    "    sns.heatmap(corr,\n",
    "                vmin=-1, vmax=1, center=0,\n",
    "                cmap=sns.diverging_palette(0, 200, n=100),\n",
    "                square=True)"
   ]
  },
  {
   "cell_type": "markdown",
   "metadata": {
    "colab_type": "text",
    "id": "cna3UI6_mc3E"
   },
   "source": [
    "### Step 1"
   ]
  },
  {
   "cell_type": "code",
   "execution_count": 0,
   "metadata": {
    "ExecuteTime": {
     "end_time": "2020-03-07T21:11:38.835207Z",
     "start_time": "2020-03-07T21:11:38.707385Z"
    },
    "code_folding": [
     13
    ],
    "colab": {},
    "colab_type": "code",
    "id": "Vo9KxNSii83t"
   },
   "outputs": [],
   "source": [
    "def step1(df):\n",
    "    log = open(PATH+'step1.log', 'w')\n",
    "    start_mem_usg = df.memory_usage().sum() / 1024**2 \n",
    "    print(f\"Использование памяти до преобразований: {start_mem_usg:0.3f} MB\")\n",
    "\n",
    "    mbr = progress_bar(df.columns.drop(['id', 'buy_time']))\n",
    "\n",
    "    df.index = df.index.astype(np.uint64)\n",
    "    df['id'] = df['id'].astype(np.uint32)\n",
    "    df['buy_time'] = pd.to_datetime( df['buy_time'].apply(lambda x: date.fromtimestamp(x)) )\n",
    "\n",
    "    def convertToInt(values):\n",
    "        values = values.astype(int)\n",
    "        mn = values.min()\n",
    "        mx = values.max()\n",
    "        dt = int\n",
    "\n",
    "        if mn >= 0:\n",
    "            if mx < 255: dt = np.uint8\n",
    "            elif mx < 65535: dt = np.uint16\n",
    "            else: dt = np.uint32\n",
    "        else:\n",
    "            if mn > np.iinfo(np.int8).min and mx < np.iinfo(np.int8).max:\n",
    "                dt = np.int8\n",
    "            elif mn > np.iinfo(np.int16).min and mx < np.iinfo(np.int16).max:\n",
    "                dt = np.int16\n",
    "\n",
    "        values = values.astype(dt)\n",
    "        print(f'    содержит целые числа - конвертируем в {values.dtype} type', file=log)\n",
    "        return values \n",
    "\n",
    "    for col in mbr:\n",
    "        if not np.isfinite(df[col]).all():\n",
    "            print(f\"ВНИМАНИЕ {col} содержит пустые значения заполняем медианой\", file=log)\n",
    "            df[col].fillna(df[col].median(), inplace=True)\n",
    "\n",
    "        print(f\"обработка признака {col}:\", file=log)\n",
    "\n",
    "        if df[col].nunique() > 2:\n",
    "            cn = updateByQuantile(df[col])\n",
    "            print(f\"    удаляем {cn} выбросов\", file=log)\n",
    "\n",
    "        mn = df[col].min()\n",
    "        vc = df[col].value_counts(normalize=True)\n",
    "        nu = len(vc)\n",
    "\n",
    "        if vc.values[0] >= 0.999 or nu < 3:\n",
    "            if nu == 1:\n",
    "                print(f\"    содержит одинаковые значения {mn:0.5f} - удаляем\", file=log)\n",
    "            elif nu == 2:\n",
    "                bn = f'{col}_bin'\n",
    "                df[bn] = np.round(df[col] + abs(mn)).astype(bool)\n",
    "                print(f\"    содержит только 2 уникальных значения - создадим {bn} бинарный признак а этот удалим\", file=log)\n",
    "            else:\n",
    "                vmx = vc.index[0]\n",
    "                bn = f'{col}_bin'\n",
    "                df[bn] = (df[col] != vmx).astype(bool)\n",
    "                print(f\"    более 99.9% значений = {vmx:0.5f} - создадим {bn} бинарный признак а этот удалим\", file=log)\n",
    "\n",
    "            df.drop(col, axis=1, inplace=True)\n",
    "            continue\n",
    "\n",
    "\n",
    "        asint = df[col].astype(int)\n",
    "        result = (df[col] - asint).sum()\n",
    "        if result == 0:\n",
    "            df[col] = convertToInt(df[col].round())\n",
    "            continue\n",
    "\n",
    "        rnd = np.round(df[col] - asint, 6).value_counts(normalize=True)\n",
    "        rnln = len(rnd)\n",
    "        if rnln < 3:\n",
    "            if rnln == 2:\n",
    "                bn = f'{col}_mj'\n",
    "                print(f\"    скорее всего содержит привязку к категории внутри - добавим {bn} бинарный признак\", file=log)\n",
    "                df[bn] = (df[col] != rnd.index[0]).astype(bool)\n",
    "\n",
    "            df[col] = convertToInt(df[col].round())\n",
    "            mn = df[col].min()\n",
    "            nu = len(df[col].value_counts())\n",
    "\n",
    "        if nu < 1000:\n",
    "            print(f\"    возможно категория - уникальных значений {nu} - проверяем ... \", end='', file=log)\n",
    "            tmp = df[col] + abs(mn)\n",
    "\n",
    "            if tmp.min() >= 0 and tmp.max() <= 1:\n",
    "                print(\"пропускаем - скорее всего категория преобразована в проценты от 0 до 1\", file=log)\n",
    "                df[col] = tmp\n",
    "                continue\n",
    "\n",
    "            tmp = tmp.round().astype(int)\n",
    "            vc = tmp.value_counts(normalize=True)\n",
    "            if len(vc) < 20:\n",
    "                print(f'преобразуем в категорию', file=log)\n",
    "                df[col] = tmp.astype('category')\n",
    "                continue\n",
    "\n",
    "            vc = np.round(vc,4)\n",
    "            if len(vc) < 200:\n",
    "                bn = f'{col}_prc'\n",
    "                print(f'добавим {bn} процентный признак', file=log)\n",
    "                df[bn] = tmp.map(dict(vc)).astype(float)\n",
    "                continue\n",
    "            else:\n",
    "                print('не найдено, оставляем как есть', file=log)\n",
    "                continue\n",
    "\n",
    "        print(f\"    пропускаем\", file=log)\n",
    "\n",
    "    print('====== чистим дубликаты')\n",
    "    cnt = df['id'].count()\n",
    "    clm = df.columns.drop('buy_time')\n",
    "    df.drop_duplicates(['id', 'buy_time'], inplace=True)\n",
    "    zero = df[df['id']==0].index\n",
    "    df.drop(zero, inplace=True)\n",
    "\n",
    "    print(f'  удалено {cnt - df[\"id\"].count()} дубликтатов и {len(zero)} неверных значений')\n",
    "\n",
    "    mem_usg = df.memory_usage().sum() / 1024**2 \n",
    "    print(f\"Использование памяти ПОСЛЕ преобразований: {mem_usg:0.3f} MB,\"\n",
    "          f\"итоговое сжатие {100-100*mem_usg/start_mem_usg:0.2f}% \")\n",
    "    log.close()"
   ]
  },
  {
   "cell_type": "markdown",
   "metadata": {
    "colab_type": "text",
    "id": "A_DAppPhmjc6"
   },
   "source": [
    "### Step 2"
   ]
  },
  {
   "cell_type": "code",
   "execution_count": 0,
   "metadata": {
    "colab": {},
    "colab_type": "code",
    "id": "6pjzmlIekdGR"
   },
   "outputs": [],
   "source": [
    "def step2(df):\n",
    "    (ALL, OTH, CAT, BIN, PRC, FLT, INT, NUM) = getTypes(df, True)\n",
    " \n",
    "    if CAT:\n",
    "        print(f'Добавляем процентые признаки для {len(CAT)} категориальных признаков')\n",
    "        mbr = progress_bar(CAT)\n",
    "        for col in mbr:\n",
    "            bn = f'{col}_prc'\n",
    "            t = (features[col].astype(np.uint16) + 1)\n",
    "            vc = np.round(t.value_counts(normalize=True), 4)\n",
    "            df[bn] = t.map(dict(vc))\n",
    "            PRC.add(bn)\n",
    "\n",
    "        print(f'Добавляем бинарные признаки для {len(CAT)} категориальных признаков')\n",
    "        tmp = pd.get_dummies(df[CAT], dtype=bool)\n",
    "        BIN = BIN | set(tmp.columns)\n",
    "        df.drop(CAT, axis=1, inplace=True)\n",
    "        mbr = progress_bar(tmp.columns)\n",
    "        for i in mbr:\n",
    "            df[i] = tmp[i]\n",
    "        \n",
    "    print(f'Добавляем сумму {len(BIN)} бинарных признаков')\n",
    "    df['binsum'] = df[BIN].sum(axis=1)\n",
    "\n",
    "    print(f'Добавляем среднее {len(PRC)} процентных признаков')\n",
    "    df['prcmean'] = df[PRC].mean(axis=1)\n",
    "\n",
    "    print(f'Уменьшаем размерность {len(BIN)} бинарных признаков')\n",
    "    _, rm, nt1 = pca_reduce(df, BIN)\n",
    "    BIN -= rm\n",
    "    \n",
    "    print(f'Уменьшаем размерность {len(PRC)} процентных признаков')\n",
    "    _, rm, nt2 = pca_reduce(df, PRC)\n",
    "    PRC -= rm\n",
    "    \n",
    "    print(f'Уменьшаем размерность {len(INT)} целых признаков')\n",
    "    _, rm, nt3 = pca_reduce(df, INT)\n",
    "    \n",
    "    print(f'Уменьшаем размерность {len(FLT)} вещественных признаков')\n",
    "    _, rm, nt4 = pca_reduce(df, FLT)\n",
    "\n",
    "    last = list(nt1 | nt2 | nt3 | nt4)\n",
    "    print(f'Уменьшаем размерность пересечений {len(last)} признаков')\n",
    "    for i in range(0, len(last), 50):\n",
    "        fld = last[i:i+50]\n",
    "        pca_reduce(df, fld)\n",
    "\n",
    "    (ALL, OTH, CAT, BIN, PRC, FLT, INT, NUM) = getTypes(df,True)\n"
   ]
  },
  {
   "cell_type": "markdown",
   "metadata": {
    "ExecuteTime": {
     "end_time": "2020-03-07T05:57:12.236944Z",
     "start_time": "2020-03-07T05:57:12.196800Z"
    },
    "colab_type": "text",
    "id": "4HrWL2vt8l7v"
   },
   "source": [
    "# Подготовка признаков и данных"
   ]
  },
  {
   "cell_type": "markdown",
   "metadata": {
    "colab_type": "text",
    "id": "z8sAWYbT8l8B"
   },
   "source": [
    "## Шаг 1. Загрузка cырых данных и пред-обработка"
   ]
  },
  {
   "cell_type": "code",
   "execution_count": 13,
   "metadata": {
    "ExecuteTime": {
     "end_time": "2020-03-07T21:12:33.236048Z",
     "start_time": "2020-03-07T21:11:40.308803Z"
    },
    "colab": {
     "base_uri": "https://localhost:8080/",
     "height": 190
    },
    "colab_type": "code",
    "executionInfo": {
     "elapsed": 2413704,
     "status": "ok",
     "timestamp": 1584514378923,
     "user": {
      "displayName": "Serge Ahranovich",
      "photoUrl": "",
      "userId": "12639209674703420060"
     },
     "user_tz": 420
    },
    "id": "UsSPt2xmJRlE",
    "outputId": "ad3d142e-a843-42f7-ba4f-f4d1623d43d0"
   },
   "outputs": [
    {
     "name": "stdout",
     "output_type": "stream",
     "text": [
      "Читаем исходный файл features.csv.gz\n",
      "Использование памяти до преобразований: 8813.531 MB\n"
     ]
    },
    {
     "data": {
      "text/html": [
       "\n",
       "    <div>\n",
       "        <style>\n",
       "            /* Turns off some styling */\n",
       "            progress {\n",
       "                /* gets rid of default border in Firefox and Opera. */\n",
       "                border: none;\n",
       "                /* Needs to be in here for Safari polyfill so background images work as expected. */\n",
       "                background-size: auto;\n",
       "            }\n",
       "            .progress-bar-interrupted, .progress-bar-interrupted::-webkit-progress-bar {\n",
       "                background: #F44336;\n",
       "            }\n",
       "        </style>\n",
       "      <progress value='253' class='' max='253', style='width:300px; height:20px; vertical-align: middle;'></progress>\n",
       "      100.00% [253/253 11:03<00:00]\n",
       "    </div>\n",
       "    "
      ],
      "text/plain": [
       "<IPython.core.display.HTML object>"
      ]
     },
     "metadata": {
      "tags": []
     },
     "output_type": "display_data"
    },
    {
     "name": "stdout",
     "output_type": "stream",
     "text": [
      "====== чистим дубликаты\n",
      "  удалено 1 дубликтатов и 1 неверных значений\n",
      "Использование памяти ПОСЛЕ преобразований: 4458.414 MB,итоговое сжатие 49.41% \n",
      "------------------------------------\n",
      "Cохраняем предобработку в файл step1.pkl.gz\n",
      "------------------------------------\n",
      "Шаг 1 завершен, лог можно посмотреть в step1.log\n"
     ]
    }
   ],
   "source": [
    "if not exists(PATH+'step1.pkl.gz'):\n",
    "    features = None\n",
    "    print('Читаем исходный файл features.csv.gz')\n",
    "    features = pd.read_csv(PATH+'features.csv.gz', dtype='float', sep='\\t', index_col=0, compression='gzip')\n",
    "    step1(features)\n",
    "    print('------------------------------------')\n",
    "    print('Cохраняем предобработку в файл step1.pkl.gz')\n",
    "    features.to_pickle(PATH+'step1.pkl.gz', compression='gzip')\n",
    "\n",
    "print('------------------------------------')\n",
    "print('Шаг 1 завершен, лог можно посмотреть в step1.log')"
   ]
  },
  {
   "cell_type": "markdown",
   "metadata": {
    "colab_type": "text",
    "id": "FQ4ynarTGlMl"
   },
   "source": [
    "## Шаг 2. Поиск и удаление зависимостей"
   ]
  },
  {
   "cell_type": "code",
   "execution_count": 25,
   "metadata": {
    "colab": {
     "base_uri": "https://localhost:8080/",
     "height": 1000
    },
    "colab_type": "code",
    "executionInfo": {
     "elapsed": 3232150,
     "status": "ok",
     "timestamp": 1584519119153,
     "user": {
      "displayName": "Serge Ahranovich",
      "photoUrl": "",
      "userId": "12639209674703420060"
     },
     "user_tz": 420
    },
    "id": "XOwGpPUEGyLu",
    "outputId": "b659da7a-4cae-42a1-bcd7-29e64bab9c9d",
    "scrolled": false
   },
   "outputs": [
    {
     "name": "stdout",
     "output_type": "stream",
     "text": [
      "Читаем предобработанный файл\n"
     ]
    },
    {
     "data": {
      "text/html": [
       "\n",
       "    <div>\n",
       "        <style>\n",
       "            /* Turns off some styling */\n",
       "            progress {\n",
       "                /* gets rid of default border in Firefox and Opera. */\n",
       "                border: none;\n",
       "                /* Needs to be in here for Safari polyfill so background images work as expected. */\n",
       "                background-size: auto;\n",
       "            }\n",
       "            .progress-bar-interrupted, .progress-bar-interrupted::-webkit-progress-bar {\n",
       "                background: #F44336;\n",
       "            }\n",
       "        </style>\n",
       "      <progress value='109' class='' max='109', style='width:300px; height:20px; vertical-align: middle;'></progress>\n",
       "      100.00% [109/109 00:02<00:00]\n",
       "    </div>\n",
       "    "
      ],
      "text/plain": [
       "<IPython.core.display.HTML object>"
      ]
     },
     "metadata": {
      "tags": []
     },
     "output_type": "display_data"
    },
    {
     "name": "stdout",
     "output_type": "stream",
     "text": [
      "TOTAL = 276\n",
      "  BIN = 142\n",
      "  CAT = 23\n",
      "  NUM = 109\n",
      "    PRC = 37\n",
      "    FLT = 66\n",
      "    INT = 6\n",
      "Добавляем процентые признаки для 23 категориальных признаков\n"
     ]
    },
    {
     "data": {
      "text/html": [
       "\n",
       "    <div>\n",
       "        <style>\n",
       "            /* Turns off some styling */\n",
       "            progress {\n",
       "                /* gets rid of default border in Firefox and Opera. */\n",
       "                border: none;\n",
       "                /* Needs to be in here for Safari polyfill so background images work as expected. */\n",
       "                background-size: auto;\n",
       "            }\n",
       "            .progress-bar-interrupted, .progress-bar-interrupted::-webkit-progress-bar {\n",
       "                background: #F44336;\n",
       "            }\n",
       "        </style>\n",
       "      <progress value='23' class='' max='23', style='width:300px; height:20px; vertical-align: middle;'></progress>\n",
       "      100.00% [23/23 00:06<00:00]\n",
       "    </div>\n",
       "    "
      ],
      "text/plain": [
       "<IPython.core.display.HTML object>"
      ]
     },
     "metadata": {
      "tags": []
     },
     "output_type": "display_data"
    },
    {
     "name": "stdout",
     "output_type": "stream",
     "text": [
      "Добавляем бинарные признаки для 23 категориальных признаков\n"
     ]
    },
    {
     "data": {
      "text/html": [
       "\n",
       "    <div>\n",
       "        <style>\n",
       "            /* Turns off some styling */\n",
       "            progress {\n",
       "                /* gets rid of default border in Firefox and Opera. */\n",
       "                border: none;\n",
       "                /* Needs to be in here for Safari polyfill so background images work as expected. */\n",
       "                background-size: auto;\n",
       "            }\n",
       "            .progress-bar-interrupted, .progress-bar-interrupted::-webkit-progress-bar {\n",
       "                background: #F44336;\n",
       "            }\n",
       "        </style>\n",
       "      <progress value='183' class='' max='183', style='width:300px; height:20px; vertical-align: middle;'></progress>\n",
       "      100.00% [183/183 00:01<00:00]\n",
       "    </div>\n",
       "    "
      ],
      "text/plain": [
       "<IPython.core.display.HTML object>"
      ]
     },
     "metadata": {
      "tags": []
     },
     "output_type": "display_data"
    },
    {
     "name": "stdout",
     "output_type": "stream",
     "text": [
      "Добавляем сумму 325 бинарных признаков\n",
      "Добавляем среднее 60 процентных признаков\n",
      "Уменьшаем размерность 325 бинарных признаков\n",
      "\n",
      "Считаем корреляцию для 325 признаков\n",
      " ... отбираем >= 0.7, уменьщаем на 0.15\n"
     ]
    },
    {
     "data": {
      "text/html": [
       "\n",
       "    <div>\n",
       "        <style>\n",
       "            /* Turns off some styling */\n",
       "            progress {\n",
       "                /* gets rid of default border in Firefox and Opera. */\n",
       "                border: none;\n",
       "                /* Needs to be in here for Safari polyfill so background images work as expected. */\n",
       "                background-size: auto;\n",
       "            }\n",
       "            .progress-bar-interrupted, .progress-bar-interrupted::-webkit-progress-bar {\n",
       "                background: #F44336;\n",
       "            }\n",
       "        </style>\n",
       "      <progress value='108' class='' max='108', style='width:300px; height:20px; vertical-align: middle;'></progress>\n",
       "      100.00% [108/108 07:03<00:00]\n",
       "    </div>\n",
       "    "
      ],
      "text/plain": [
       "<IPython.core.display.HTML object>"
      ]
     },
     "metadata": {
      "tags": []
     },
     "output_type": "display_data"
    },
    {
     "name": "stdout",
     "output_type": "stream",
     "text": [
      "  \"156_bin-p*\"  (1)  <=  {'46_bin', '184_bin', '181_bin', '182_bin', '41_bin', '156_bin', '125_bin', '123_bin'}\n",
      "  \"209_0-p*\"  (1)  <=  {'209_1', '209_0', '219_1', '217_1', '219_0', '217_0'}\n",
      "  \"73_bin-p*\"  (1)  <=  {'10_bin', '12_bin', '71_bin', '73_bin', '74_bin', '72_bin'}\n",
      "  \"125_bin-p*\"  (1)  <=  {'42_bin', '124_bin'}\n",
      "  \"136_0-p*\"  (1)  <=  {'136_3', '137_bin', '136_0', '135_bin'}\n",
      "  \"76_0-p*\"  (1)  <=  {'76_3', '76_0', '104_0', '19_3'}\n",
      "  \"28_0-p*\"  (1)  <=  {'28_1', '28_0', '29_1', '29_0'}\n",
      "  \"76_3-p*\"  (1)  <=  {'19_6', '104_3'}\n",
      "  \"147_2-p*\"  (1)  <=  {'162_2', '147_2', '54_2'}\n",
      "  \"147_7-p*\"  (1)  <=  {'162_7', '147_7', '54_7'}\n",
      "  \"147_0-p*\"  (1)  <=  {'54_0', '162_0', '147_0'}\n",
      "  \"19_7-p*\"  (1)  <=  {'76_4', '19_7', '104_4'}\n",
      "  \"147_6-p*\"  (1)  <=  {'162_6', '147_6', '54_6'}\n",
      "  \"104_2-p*\"  (1)  <=  {'19_5', '76_2', '104_2'}\n",
      "  \"162_1-p*\"  (1)  <=  {'147_1', '162_1', '54_1'}\n",
      "  \"205_bin-p*\"  (1)  <=  {'205_bin', '198_bin', '192_bin'}\n",
      "  \"209_2-p*\"  (1)  <=  {'217_2', '209_2', '219_2'}\n",
      "  \"252_mj-p*\"  (1)  <=  {'252_0', '252_1', '252_mj'}\n",
      "  \"104_5-p*\"  (1)  <=  {'104_5', '76_5', '19_8'}\n",
      "  \"162_3-p*\"  (1)  <=  {'147_3', '162_3', '54_3'}\n",
      "  \"210_bin-p*\"  (1)  <=  {'210_bin', '211_bin'}\n",
      "  \"56_0-p*\"  (1)  <=  {'56_0', '56_2'}\n",
      "  \"162_11-p*\"  (1)  <=  {'54_11', '162_11'}\n",
      "  \"6_bin-p*\"  (1)  <=  {'6_bin', '48_bin'}\n",
      "  \"162_5-p*\"  (1)  <=  {'54_5', '162_5'}\n",
      "  \"106_9-p*\"  (1)  <=  {'106_9', '106_0'}\n",
      "  \"54_12-p*\"  (1)  <=  {'54_12', '162_12'}\n",
      "  \"215_bin-p*\"  (1)  <=  {'215_bin', '214_bin'}\n",
      "  \"162_8-p*\"  (1)  <=  {'162_8', '54_8'}\n",
      "  \"199_bin-p*\"  (1)  <=  {'202_bin', '199_bin'}\n",
      "  \"54_9-p*\"  (1)  <=  {'54_9', '162_9'}\n",
      "  \"162_10-p*\"  (1)  <=  {'162_10', '54_10'}\n",
      "  \"33_bin-p*\"  (1)  <=  {'32_bin', '33_bin'}\n",
      "  \"92_bin-p*\"  (1)  <=  {'91_bin', '92_bin'}\n",
      "  \"78_bin-p*\"  (1)  <=  {'78_bin', '79_bin'}\n",
      "  \"212_0-p*\"  (1)  <=  {'212_0', '212_1'}\n",
      "  \"76_1-p*\"  (1)  <=  {'76_1', '104_1'}\n",
      "  \"54_4-p*\"  (1)  <=  {'54_4', '162_4'}\n",
      "\n",
      "  добавлено = 38, удалено = 108, не поменялось = 217\n",
      "Уменьшаем размерность 60 процентных признаков\n",
      "\n",
      "Считаем корреляцию для 60 признаков\n",
      " ... отбираем >= 0.7, уменьщаем на 0.15\n"
     ]
    },
    {
     "data": {
      "text/html": [
       "\n",
       "    <div>\n",
       "        <style>\n",
       "            /* Turns off some styling */\n",
       "            progress {\n",
       "                /* gets rid of default border in Firefox and Opera. */\n",
       "                border: none;\n",
       "                /* Needs to be in here for Safari polyfill so background images work as expected. */\n",
       "                background-size: auto;\n",
       "            }\n",
       "            .progress-bar-interrupted, .progress-bar-interrupted::-webkit-progress-bar {\n",
       "                background: #F44336;\n",
       "            }\n",
       "        </style>\n",
       "      <progress value='31' class='' max='31', style='width:300px; height:20px; vertical-align: middle;'></progress>\n",
       "      100.00% [31/31 01:28<00:00]\n",
       "    </div>\n",
       "    "
      ],
      "text/plain": [
       "<IPython.core.display.HTML object>"
      ]
     },
     "metadata": {
      "tags": []
     },
     "output_type": "display_data"
    },
    {
     "name": "stdout",
     "output_type": "stream",
     "text": [
      "  \"185_prc-p*\"  (1)  <=  {'185_prc', '187_prc', '129_prc', '169_prc', '111_prc', '130_prc', '61', '167_prc'}\n",
      "  \"167_prc-p*\"  (1)  <=  {'165_prc', '146_prc'}\n",
      "  \"147_prc-p*\"  (1)  <=  {'162_prc', '54_prc', '147_prc'}\n",
      "  \"19_prc-p*\"  (1)  <=  {'19_prc', '76_prc', '104_prc'}\n",
      "  \"209_prc-p*\"  (1)  <=  {'217_prc', '209_prc', '219_prc'}\n",
      "  \"50_prc-p*\"  (1)  <=  {'151_prc', '50_prc', '51_prc'}\n",
      "  \"60-p*\"  (1)  <=  {'63', '60'}\n",
      "  \"29_prc-p*\"  (1)  <=  {'29_prc', '28_prc'}\n",
      "  \"234_prc-p*\"  (1)  <=  {'234_prc', '230_prc'}\n",
      "\n",
      "  добавлено = 9, удалено = 28, не поменялось = 32\n",
      "Уменьшаем размерность 6 целых признаков\n",
      "\n",
      "Считаем корреляцию для 6 признаков\n",
      " ... отбираем >= 0.7, уменьщаем на 0.15\n",
      "\n",
      "  добавлено = 0, удалено = 0, не поменялось = 6\n",
      "Уменьшаем размерность 66 вещественных признаков\n",
      "\n",
      "Считаем корреляцию для 66 признаков\n",
      " ... отбираем >= 0.7, уменьщаем на 0.15\n"
     ]
    },
    {
     "data": {
      "text/html": [
       "\n",
       "    <div>\n",
       "        <style>\n",
       "            /* Turns off some styling */\n",
       "            progress {\n",
       "                /* gets rid of default border in Firefox and Opera. */\n",
       "                border: none;\n",
       "                /* Needs to be in here for Safari polyfill so background images work as expected. */\n",
       "                background-size: auto;\n",
       "            }\n",
       "            .progress-bar-interrupted, .progress-bar-interrupted::-webkit-progress-bar {\n",
       "                background: #F44336;\n",
       "            }\n",
       "        </style>\n",
       "      <progress value='43' class='' max='43', style='width:300px; height:20px; vertical-align: middle;'></progress>\n",
       "      100.00% [43/43 01:57<00:00]\n",
       "    </div>\n",
       "    "
      ],
      "text/plain": [
       "<IPython.core.display.HTML object>"
      ]
     },
     "metadata": {
      "tags": []
     },
     "output_type": "display_data"
    },
    {
     "name": "stdout",
     "output_type": "stream",
     "text": [
      "  \"51-p*\"  (1)  <=  {'151', '52', '146', '50', '53', '51'}\n",
      "  \"169-p*\"  (1)  <=  {'169', '165', '130', '171', '185'}\n",
      "  \"43-p*\"  (1)  <=  {'170', '44', '186', '45', '43'}\n",
      "  \"185-p*\"  (1)  <=  {'187', '167'}\n",
      "  \"0-p*\"  (1)  <=  {'2', '0', '4', '14'}\n",
      "  \"3-p*\"  (1)  <=  {'3', '5', '1'}\n",
      "  \"38-p*\"  (1)  <=  {'117', '38', '116'}\n",
      "  \"144-p*\"  (1)  <=  {'144', '143'}\n",
      "  \"112-p*\"  (1)  <=  {'39', '112'}\n",
      "  \"234-p*\"  (1)  <=  {'230', '234'}\n",
      "  \"113-p*\"  (1)  <=  {'113', '40'}\n",
      "  \"243-p*\"  (1)  <=  {'243', '244'}\n",
      "  \"7-p*\"  (1)  <=  {'7', '49'}\n",
      "\n",
      "  добавлено = 13, удалено = 40, не поменялось = 26\n",
      "Уменьшаем размерность пересечений 281 признаков\n",
      "\n",
      "Считаем корреляцию для 50 признаков\n",
      " ... отбираем >= 0.7, уменьщаем на 0.15\n",
      "\n",
      "  добавлено = 0, удалено = 0, не поменялось = 50\n",
      "\n",
      "Считаем корреляцию для 50 признаков\n",
      " ... отбираем >= 0.7, уменьщаем на 0.15\n",
      "\n",
      "  добавлено = 0, удалено = 0, не поменялось = 50\n",
      "\n",
      "Считаем корреляцию для 50 признаков\n",
      " ... отбираем >= 0.7, уменьщаем на 0.15\n"
     ]
    },
    {
     "data": {
      "text/html": [
       "\n",
       "    <div>\n",
       "        <style>\n",
       "            /* Turns off some styling */\n",
       "            progress {\n",
       "                /* gets rid of default border in Firefox and Opera. */\n",
       "                border: none;\n",
       "                /* Needs to be in here for Safari polyfill so background images work as expected. */\n",
       "                background-size: auto;\n",
       "            }\n",
       "            .progress-bar-interrupted, .progress-bar-interrupted::-webkit-progress-bar {\n",
       "                background: #F44336;\n",
       "            }\n",
       "        </style>\n",
       "      <progress value='2' class='' max='2', style='width:300px; height:20px; vertical-align: middle;'></progress>\n",
       "      100.00% [2/2 00:07<00:00]\n",
       "    </div>\n",
       "    "
      ],
      "text/plain": [
       "<IPython.core.display.HTML object>"
      ]
     },
     "metadata": {
      "tags": []
     },
     "output_type": "display_data"
    },
    {
     "name": "stdout",
     "output_type": "stream",
     "text": [
      "  \"59_prc-p*\"  (1)  <=  {'59_prc', '59_1'}\n",
      "\n",
      "  добавлено = 1, удалено = 2, не поменялось = 48\n",
      "\n",
      "Считаем корреляцию для 50 признаков\n",
      " ... отбираем >= 0.7, уменьщаем на 0.15\n"
     ]
    },
    {
     "data": {
      "text/html": [
       "\n",
       "    <div>\n",
       "        <style>\n",
       "            /* Turns off some styling */\n",
       "            progress {\n",
       "                /* gets rid of default border in Firefox and Opera. */\n",
       "                border: none;\n",
       "                /* Needs to be in here for Safari polyfill so background images work as expected. */\n",
       "                background-size: auto;\n",
       "            }\n",
       "            .progress-bar-interrupted, .progress-bar-interrupted::-webkit-progress-bar {\n",
       "                background: #F44336;\n",
       "            }\n",
       "        </style>\n",
       "      <progress value='2' class='' max='2', style='width:300px; height:20px; vertical-align: middle;'></progress>\n",
       "      100.00% [2/2 00:07<00:00]\n",
       "    </div>\n",
       "    "
      ],
      "text/plain": [
       "<IPython.core.display.HTML object>"
      ]
     },
     "metadata": {
      "tags": []
     },
     "output_type": "display_data"
    },
    {
     "name": "stdout",
     "output_type": "stream",
     "text": [
      "  \"193_1-p*\"  (1)  <=  {'193_1', '193_prc'}\n",
      "\n",
      "  добавлено = 1, удалено = 2, не поменялось = 48\n",
      "\n",
      "Считаем корреляцию для 50 признаков\n",
      " ... отбираем >= 0.7, уменьщаем на 0.15\n",
      "\n",
      "  добавлено = 0, удалено = 0, не поменялось = 50\n",
      "\n",
      "Считаем корреляцию для 31 признаков\n",
      " ... отбираем >= 0.7, уменьщаем на 0.15\n",
      "\n",
      "  добавлено = 0, удалено = 0, не поменялось = 31\n"
     ]
    },
    {
     "data": {
      "text/html": [
       "\n",
       "    <div>\n",
       "        <style>\n",
       "            /* Turns off some styling */\n",
       "            progress {\n",
       "                /* gets rid of default border in Firefox and Opera. */\n",
       "                border: none;\n",
       "                /* Needs to be in here for Safari polyfill so background images work as expected. */\n",
       "                background-size: auto;\n",
       "            }\n",
       "            .progress-bar-interrupted, .progress-bar-interrupted::-webkit-progress-bar {\n",
       "                background: #F44336;\n",
       "            }\n",
       "        </style>\n",
       "      <progress value='124' class='' max='124', style='width:300px; height:20px; vertical-align: middle;'></progress>\n",
       "      100.00% [124/124 00:02<00:00]\n",
       "    </div>\n",
       "    "
      ],
      "text/plain": [
       "<IPython.core.display.HTML object>"
      ]
     },
     "metadata": {
      "tags": []
     },
     "output_type": "display_data"
    },
    {
     "name": "stdout",
     "output_type": "stream",
     "text": [
      "TOTAL = 343\n",
      "  BIN = 215\n",
      "  CAT = 0\n",
      "  NUM = 124\n",
      "    PRC = 30\n",
      "    FLT = 88\n",
      "    INT = 6\n",
      "------------------------------------\n",
      "Cохраняем предобработку в файл step2.pkl.gz\n",
      "------------------------------------\n",
      "Шаг 2 завершен\n"
     ]
    }
   ],
   "source": [
    "if not exists(PATH+'step2.pkl.gz'):\n",
    "    features = None\n",
    "    print('Читаем предобработанный файл')\n",
    "    features = pd.read_pickle(PATH+'step1.pkl.gz', compression='gzip')\n",
    "    step2(features)\n",
    "    print('------------------------------------')\n",
    "    print('Cохраняем предобработку в файл step2.pkl.gz')\n",
    "    features.to_pickle(PATH+'step2.pkl.gz', compression='gzip')\n",
    "print('------------------------------------')\n",
    "print('Шаг 2 завершен')"
   ]
  },
  {
   "cell_type": "markdown",
   "metadata": {
    "colab_type": "text",
    "id": "O7nU4DyVFhjx"
   },
   "source": [
    "## Шаг 3. Подготовим итоговые данные из наших наборов"
   ]
  },
  {
   "cell_type": "code",
   "execution_count": 43,
   "metadata": {
    "colab": {
     "base_uri": "https://localhost:8080/",
     "height": 51
    },
    "colab_type": "code",
    "executionInfo": {
     "elapsed": 1167,
     "status": "ok",
     "timestamp": 1584530130867,
     "user": {
      "displayName": "Serge Ahranovich",
      "photoUrl": "",
      "userId": "12639209674703420060"
     },
     "user_tz": 420
    },
    "id": "UgpUiRkoiOF4",
    "outputId": "331454d3-8f61-40d6-f9d4-e68ff16cc747"
   },
   "outputs": [
    {
     "name": "stdout",
     "output_type": "stream",
     "text": [
      "------------------------------------\n",
      "Шаг 3 завершен\n"
     ]
    }
   ],
   "source": [
    "if not exists(PATH+'data.pkl.gz'):\n",
    "    features = None\n",
    "    print('Читаем предобработанный файл шага 2')\n",
    "    df = pd.read_pickle(PATH+'step2.pkl.gz', compression='gzip')\n",
    "    (ALL, OTH, CAT, BIN, PRC, FLT, INT, NUM) = getTypes(df, True)\n",
    "\n",
    "    fld = ['id', 'buy_time']    \n",
    "    print('Загружаем рабочие данные ... ', end='')\n",
    "    data = all_data()\n",
    "    print(f'{len(data)} записей')\n",
    "\n",
    "    print('Поиск отсуствующих данных ... ', end='')\n",
    "    mrg = data[fld].merge(df[fld+['binsum']], how='left', on=fld)\n",
    "    nf = mrg[mrg.binsum.isnull()][fld]\n",
    "    fn = mrg[~mrg.binsum.isnull()]['id'].unique()\n",
    "    print(f'{len(nf)} записей')\n",
    "\n",
    "    print('Подготовка средних')\n",
    "    bt = df.groupby('buy_time').mean().drop('id', axis=1)\n",
    "    us = df[df['id'].isin(nf['id'])].groupby('id').mean()\n",
    "\n",
    "    print('Поиск средних')\n",
    "    ad = pd.concat([\n",
    "      nf.merge(bt, how='left', on='buy_time')[df.columns],\n",
    "      nf.merge(us, how='left', on='id')[df.columns]\n",
    "    ]).groupby(fld).mean()\n",
    "\n",
    "    ad.reset_index(inplace=True)\n",
    "    ad = ad[df.columns]\n",
    "\n",
    "    print('Соединяем данные')\n",
    "    df = df[df['id'].isin(fn)].append(ad[df.columns]).reset_index(drop=True)\n",
    "    data = data.merge(df, how='left', on=['id', 'buy_time'])\n",
    "    del features, df, ad, nf, bt, us, mrg\n",
    "\n",
    "    print('Добавим кластеры для бинарных признаков')\n",
    "    kmp = {'n_clusters': 5, 'random_state': 42, \n",
    "           'precompute_distances': False, 'n_jobs': -1}\n",
    "    data['bindb'] = KMeans(**kmp).fit_predict(data[BIN])\n",
    "    data['bindb'] = data['bindb'].astype('category')\n",
    "\n",
    "    print('Добавим кластеры для процентных признаков')\n",
    "    data['prcdb'] = KMeans(**kmp).fit_predict(data[PRC])\n",
    "    data['prcdb'] = data['prcdb'].astype('category')\n",
    "\n",
    "    print('Добавим кластеры для целых признаков')\n",
    "    data['intdb'] = KMeans(**kmp).fit_predict(data[INT])\n",
    "    data['intdb'] = data['intdb'].astype('category')\n",
    "\n",
    "    print('Добавим кластеры для вещественных признаков')\n",
    "    data['fltdb'] = KMeans(**kmp).fit_predict(data[FLT])\n",
    "    data['fltdb'] = data['fltdb'].astype('category')\n",
    "\n",
    "\n",
    "    print('Уменьшим размерность числовых признаков')\n",
    "    (ALL, OTH, CAT, BIN, PRC, FLT, INT, NUM) = getTypes(data)\n",
    "    _ = pca_reduce(data, NUM)\n",
    "    (ALL, OTH, CAT, BIN, PRC, FLT, INT, NUM) = getTypes(df)\n",
    "\n",
    "\n",
    "    print('Удалим лишние числовые признаки')\n",
    "    df = data\n",
    "    for col in progress_bar(NUM):\n",
    "        if not np.isfinite(df[col]).all():\n",
    "            df[col].fillna(df[col].median(), inplace=True)\n",
    "\n",
    "        if df[col].nunique() > 2:\n",
    "            Q1, Q3 = df[col].quantile(0.20), df[col].quantile(0.80)\n",
    "            mn = df[col].mean()\n",
    "            IQR = Q3 - Q1\n",
    "            flt = (df[col] < (Q1 - 1.5 * IQR)) | (df[col] > (Q3 + 1.5 * IQR))\n",
    "            bf = len(df[flt])\n",
    "            nf = len(df[~flt])\n",
    "\n",
    "            if bf>0 and bf/(nf+bf) <= 0.05:\n",
    "                df.loc[flt, col] = mn\n",
    "\n",
    "        mn = df[col].min()\n",
    "        vc = df[col].value_counts(normalize=True)\n",
    "        nu = len(vc)\n",
    "\n",
    "        if vc.values[0] >= 0.999 or nu < 3:\n",
    "            if nu == 2:\n",
    "                df[f'{col}_bin'] = np.round(df[col] + abs(mn)).astype(bool)\n",
    "            else:\n",
    "                vmx = vc.index[0]\n",
    "                bn = f'{col}_bin'\n",
    "                df[f'{col}_bin'] = (df[col] != vmx).astype(bool)\n",
    "            df.drop(col, axis=1, inplace=True)\n",
    "            continue\n",
    "\n",
    "        if nu < 10:\n",
    "            tmp = df[col] + abs(mn)\n",
    "            tmp = tmp.round().astype(int)\n",
    "            df[col] = tmp.astype('category')\n",
    "\n",
    "    print('------------------------------------')\n",
    "    print('Cохраняем итоговые данные в файл data.pkl.gz')\n",
    "    data.to_pickle(PATH+'data.pkl.gz', compression='gzip')\n",
    "\n",
    "print('------------------------------------')\n",
    "print('Шаг 3 завершен')"
   ]
  },
  {
   "cell_type": "markdown",
   "metadata": {
    "colab_type": "text",
    "id": "xIR5XQ_ZiO89"
   },
   "source": [
    "# Подготовка Train/Test"
   ]
  },
  {
   "cell_type": "code",
   "execution_count": 8,
   "metadata": {
    "colab": {
     "base_uri": "https://localhost:8080/",
     "height": 363
    },
    "colab_type": "code",
    "executionInfo": {
     "elapsed": 23093,
     "status": "ok",
     "timestamp": 1584532711510,
     "user": {
      "displayName": "Serge Ahranovich",
      "photoUrl": "",
      "userId": "12639209674703420060"
     },
     "user_tz": 420
    },
    "id": "gqryMjl4OMr9",
    "outputId": "c2dbe103-7a70-400c-97ba-b9fe5dd269ea"
   },
   "outputs": [
    {
     "name": "stdout",
     "output_type": "stream",
     "text": [
      "Читаем данные для работы\n"
     ]
    },
    {
     "data": {
      "text/html": [
       "\n",
       "    <div>\n",
       "        <style>\n",
       "            /* Turns off some styling */\n",
       "            progress {\n",
       "                /* gets rid of default border in Firefox and Opera. */\n",
       "                border: none;\n",
       "                /* Needs to be in here for Safari polyfill so background images work as expected. */\n",
       "                background-size: auto;\n",
       "            }\n",
       "            .progress-bar-interrupted, .progress-bar-interrupted::-webkit-progress-bar {\n",
       "                background: #F44336;\n",
       "            }\n",
       "        </style>\n",
       "      <progress value='239' class='' max='239', style='width:300px; height:20px; vertical-align: middle;'></progress>\n",
       "      100.00% [239/239 00:00<00:00]\n",
       "    </div>\n",
       "    "
      ],
      "text/plain": [
       "<IPython.core.display.HTML object>"
      ]
     },
     "metadata": {
      "tags": []
     },
     "output_type": "display_data"
    },
    {
     "name": "stdout",
     "output_type": "stream",
     "text": [
      "TOTAL = 345\n",
      "  BIN = 99\n",
      "  CAT = 0\n",
      "  NUM = 239\n",
      "    PRC = 150\n",
      "    FLT = 89\n",
      "    INT = 0\n",
      "Добавляем категории\n",
      "Скейлим признаки\n",
      "Готово\n"
     ]
    },
    {
     "data": {
      "text/html": [
       "\n",
       "    <div>\n",
       "        <style>\n",
       "            /* Turns off some styling */\n",
       "            progress {\n",
       "                /* gets rid of default border in Firefox and Opera. */\n",
       "                border: none;\n",
       "                /* Needs to be in here for Safari polyfill so background images work as expected. */\n",
       "                background-size: auto;\n",
       "            }\n",
       "            .progress-bar-interrupted, .progress-bar-interrupted::-webkit-progress-bar {\n",
       "                background: #F44336;\n",
       "            }\n",
       "        </style>\n",
       "      <progress value='239' class='' max='239', style='width:300px; height:20px; vertical-align: middle;'></progress>\n",
       "      100.00% [239/239 00:00<00:00]\n",
       "    </div>\n",
       "    "
      ],
      "text/plain": [
       "<IPython.core.display.HTML object>"
      ]
     },
     "metadata": {
      "tags": []
     },
     "output_type": "display_data"
    },
    {
     "name": "stdout",
     "output_type": "stream",
     "text": [
      "TOTAL = 345\n",
      "  BIN = 99\n",
      "  CAT = 0\n",
      "  NUM = 239\n",
      "    PRC = 150\n",
      "    FLT = 89\n",
      "    INT = 0\n"
     ]
    }
   ],
   "source": [
    "if df is None:\n",
    "    print('Читаем данные для работы')\n",
    "    df = pd.read_pickle(PATH+'data.pkl.gz', compression='gzip')\n",
    "\n",
    "(ALL, OTH, CAT, BIN, PRC, FLT, INT, NUM) = getTypes(df, True)\n",
    "\n",
    "print('Добавляем категории')\n",
    "df = pd.get_dummies(df, columns=CAT, dtype=bool)\n",
    "\n",
    "TRAIN = df[df['train']]\n",
    "TEST  = df[~df['train']]\n",
    "\n",
    "print('Скейлим признаки')\n",
    "scale = list(FLT|INT)\n",
    "sc = StandardScaler()\n",
    "TRAIN.loc[:, scale] = sc.fit_transform(TRAIN[scale])\n",
    "TEST.loc[:, scale] = sc.transform(TEST[scale])\n",
    "\n",
    "print('Готово')\n",
    "(ALL, OTH, CAT, BIN, PRC, FLT, INT, NUM) = getTypes(df, True)\n",
    "FIELDS = list(NUM|BIN)"
   ]
  },
  {
   "cell_type": "markdown",
   "metadata": {
    "colab_type": "text",
    "id": "9a-VwXdYfPpV"
   },
   "source": [
    "# Отбор признаков"
   ]
  },
  {
   "cell_type": "code",
   "execution_count": 9,
   "metadata": {
    "colab": {
     "base_uri": "https://localhost:8080/",
     "height": 244
    },
    "colab_type": "code",
    "executionInfo": {
     "elapsed": 41598,
     "status": "ok",
     "timestamp": 1584532753131,
     "user": {
      "displayName": "Serge Ahranovich",
      "photoUrl": "",
      "userId": "12639209674703420060"
     },
     "user_tz": 420
    },
    "id": "ggfQGsx6OMe8",
    "outputId": "56753230-d491-426f-dc81-7c007a4504b7"
   },
   "outputs": [
    {
     "name": "stdout",
     "output_type": "stream",
     "text": [
      "Выбор признаков с помощью оценки корреляции > 0.05 ... найдено 7\n",
      "{'vas_id_2', 'vas_id_8', 'vas_id_6', 'vas_id_1', 'vas_id_4', 'vas_id_5', 'vas_id_7'}\n",
      "Выбор признаков с помощью SelectFromModel ...\n"
     ]
    },
    {
     "data": {
      "text/html": [
       "\n",
       "    <div>\n",
       "        <style>\n",
       "            /* Turns off some styling */\n",
       "            progress {\n",
       "                /* gets rid of default border in Firefox and Opera. */\n",
       "                border: none;\n",
       "                /* Needs to be in here for Safari polyfill so background images work as expected. */\n",
       "                background-size: auto;\n",
       "            }\n",
       "            .progress-bar-interrupted, .progress-bar-interrupted::-webkit-progress-bar {\n",
       "                background: #F44336;\n",
       "            }\n",
       "        </style>\n",
       "      <progress value='3' class='' max='3', style='width:300px; height:20px; vertical-align: middle;'></progress>\n",
       "      100.00% [3/3 00:28<00:00]\n",
       "    </div>\n",
       "    "
      ],
      "text/plain": [
       "<IPython.core.display.HTML object>"
      ]
     },
     "metadata": {
      "tags": []
     },
     "output_type": "display_data"
    },
    {
     "name": "stdout",
     "output_type": "stream",
     "text": [
      "f1 = 0.69590 | roc = 0.55212 | roc_train = 0.89818 | PARAMS: {'threshold': 1e-05}\n",
      "f1 = 0.69658 | roc = 0.55680 | roc_train = 0.89860 | PARAMS: {'threshold': 'median'}\n",
      "f1 = 0.69461 | roc = 0.57078 | roc_train = 0.89623 | PARAMS: {'threshold': 'mean'}\n",
      "SelectModel - отобрано 25 признаков\n",
      "Выбраны признаки:\n",
      " ----------------------------------------------------------------------------------------------------\n",
      "{'250_3', '250_6', '193_9', '140_bin', 'vas_id_6', '100_bin', '250_4', '250_13', '250_7', 'vas_id_4', 'vas_id_5', 'fltdb_3', '250_11', '106_2', '250_5', '250_2', 'vas_id_8', 'vas_id_9', '19_9', 'vas_id_1', '98_bin', 'vas_id_2', '250_8', 'vas_id_7', '250_1'}\n",
      "----------------------------------------------------------------------------------------------------\n"
     ]
    }
   ],
   "source": [
    "print('Выбор признаков с помощью оценки корреляции > 0.05 ...', end='')\n",
    "CORR = getCorrFeatures(TRAIN, FIELDS)\n",
    "print(f' найдено {len(CORR)}')\n",
    "print(CORR)\n",
    "\n",
    "print('Выбор признаков с помощью SelectFromModel ...')\n",
    "X_train, X_test, y_train, y_test = getTrainTest(TRAIN, FIELDS, wks=2, rnd=RANDOM_STATE)\n",
    "md = LogisticRegression(solver='liblinear', tol=1e-1, max_iter=20, penalty='l1', \n",
    "                        random_state=RANDOM_STATE)\n",
    "_,_, SMODEL = gridSelect({\"threshold\": [1e-5, 'median', 'mean']}, \n",
    "                     md, X_train, X_test, y_train, y_test)\n",
    "print(f'SelectModel - отобрано {len(SMODEL)} признаков')\n",
    "\n",
    "\n",
    "NFIELDS = set(SMODEL) | set(CORR)\n",
    "print('Выбраны признаки:\\n', '-'*100)\n",
    "print(NFIELDS)\n",
    "print('-'*100)"
   ]
  },
  {
   "cell_type": "markdown",
   "metadata": {
    "colab_type": "text",
    "id": "I8v7qQPUfZyt"
   },
   "source": [
    "# Проверим на кросс-валидации"
   ]
  },
  {
   "cell_type": "code",
   "execution_count": 0,
   "metadata": {
    "colab": {},
    "colab_type": "code",
    "id": "RI6IxeQvemSC"
   },
   "outputs": [],
   "source": [
    "from sklearn.ensemble import RandomForestClassifier, GradientBoostingClassifier\n",
    "NFIELDS = set(SMODEL) | set(CORR)"
   ]
  },
  {
   "cell_type": "code",
   "execution_count": 0,
   "metadata": {
    "colab": {},
    "colab_type": "code",
    "id": "PiL0-6YuOMcD"
   },
   "outputs": [],
   "source": [
    "mds = [\n",
    "    LogisticRegression(solver='liblinear', penalty='l1', random_state=RANDOM_STATE),\n",
    "    RandomForestClassifier(random_state=RANDOM_STATE),\n",
    "    GradientBoostingClassifier(random_state=RANDOM_STATE),\n",
    "    XGBClassifier(n_jobs=-1, random_state=RANDOM_STATE),\n",
    "]"
   ]
  },
  {
   "cell_type": "code",
   "execution_count": 15,
   "metadata": {
    "colab": {
     "base_uri": "https://localhost:8080/",
     "height": 301
    },
    "colab_type": "code",
    "executionInfo": {
     "elapsed": 102290,
     "status": "ok",
     "timestamp": 1584532976672,
     "user": {
      "displayName": "Serge Ahranovich",
      "photoUrl": "",
      "userId": "12639209674703420060"
     },
     "user_tz": 420
    },
    "id": "r_y8biumOMYv",
    "outputId": "d3dbb4cb-45f2-4dc0-9ffc-5aa8090ddcc1"
   },
   "outputs": [
    {
     "data": {
      "text/html": [
       "\n",
       "    <div>\n",
       "        <style>\n",
       "            /* Turns off some styling */\n",
       "            progress {\n",
       "                /* gets rid of default border in Firefox and Opera. */\n",
       "                border: none;\n",
       "                /* Needs to be in here for Safari polyfill so background images work as expected. */\n",
       "                background-size: auto;\n",
       "            }\n",
       "            .progress-bar-interrupted, .progress-bar-interrupted::-webkit-progress-bar {\n",
       "                background: #F44336;\n",
       "            }\n",
       "        </style>\n",
       "      <progress value='2' class='' max='2', style='width:300px; height:20px; vertical-align: middle;'></progress>\n",
       "      100.00% [2/2 00:14<00:00]\n",
       "    </div>\n",
       "    "
      ],
      "text/plain": [
       "<IPython.core.display.HTML object>"
      ]
     },
     "metadata": {
      "tags": []
     },
     "output_type": "display_data"
    },
    {
     "name": "stdout",
     "output_type": "stream",
     "text": [
      "LogisticRegression\n",
      "  TRAIN: f1 = 0.82790 | roc = 0.86546\n",
      "   TEST: f1 = 0.67143 | roc = 0.89013\n"
     ]
    },
    {
     "data": {
      "text/html": [
       "\n",
       "    <div>\n",
       "        <style>\n",
       "            /* Turns off some styling */\n",
       "            progress {\n",
       "                /* gets rid of default border in Firefox and Opera. */\n",
       "                border: none;\n",
       "                /* Needs to be in here for Safari polyfill so background images work as expected. */\n",
       "                background-size: auto;\n",
       "            }\n",
       "            .progress-bar-interrupted, .progress-bar-interrupted::-webkit-progress-bar {\n",
       "                background: #F44336;\n",
       "            }\n",
       "        </style>\n",
       "      <progress value='2' class='' max='2', style='width:300px; height:20px; vertical-align: middle;'></progress>\n",
       "      100.00% [2/2 00:27<00:00]\n",
       "    </div>\n",
       "    "
      ],
      "text/plain": [
       "<IPython.core.display.HTML object>"
      ]
     },
     "metadata": {
      "tags": []
     },
     "output_type": "display_data"
    },
    {
     "name": "stdout",
     "output_type": "stream",
     "text": [
      "RandomForestClassifier\n",
      "  TRAIN: f1 = 0.83791 | roc = 0.90355\n",
      "   TEST: f1 = 0.67556 | roc = 0.88693\n"
     ]
    },
    {
     "data": {
      "text/html": [
       "\n",
       "    <div>\n",
       "        <style>\n",
       "            /* Turns off some styling */\n",
       "            progress {\n",
       "                /* gets rid of default border in Firefox and Opera. */\n",
       "                border: none;\n",
       "                /* Needs to be in here for Safari polyfill so background images work as expected. */\n",
       "                background-size: auto;\n",
       "            }\n",
       "            .progress-bar-interrupted, .progress-bar-interrupted::-webkit-progress-bar {\n",
       "                background: #F44336;\n",
       "            }\n",
       "        </style>\n",
       "      <progress value='2' class='' max='2', style='width:300px; height:20px; vertical-align: middle;'></progress>\n",
       "      100.00% [2/2 00:33<00:00]\n",
       "    </div>\n",
       "    "
      ],
      "text/plain": [
       "<IPython.core.display.HTML object>"
      ]
     },
     "metadata": {
      "tags": []
     },
     "output_type": "display_data"
    },
    {
     "name": "stdout",
     "output_type": "stream",
     "text": [
      "GradientBoostingClassifier\n",
      "  TRAIN: f1 = 0.83150 | roc = 0.88961\n",
      "   TEST: f1 = 0.67616 | roc = 0.88894\n"
     ]
    },
    {
     "data": {
      "text/html": [
       "\n",
       "    <div>\n",
       "        <style>\n",
       "            /* Turns off some styling */\n",
       "            progress {\n",
       "                /* gets rid of default border in Firefox and Opera. */\n",
       "                border: none;\n",
       "                /* Needs to be in here for Safari polyfill so background images work as expected. */\n",
       "                background-size: auto;\n",
       "            }\n",
       "            .progress-bar-interrupted, .progress-bar-interrupted::-webkit-progress-bar {\n",
       "                background: #F44336;\n",
       "            }\n",
       "        </style>\n",
       "      <progress value='2' class='' max='2', style='width:300px; height:20px; vertical-align: middle;'></progress>\n",
       "      100.00% [2/2 00:18<00:00]\n",
       "    </div>\n",
       "    "
      ],
      "text/plain": [
       "<IPython.core.display.HTML object>"
      ]
     },
     "metadata": {
      "tags": []
     },
     "output_type": "display_data"
    },
    {
     "name": "stdout",
     "output_type": "stream",
     "text": [
      "XGBClassifier\n",
      "  TRAIN: f1 = 0.83140 | roc = 0.88928\n",
      "   TEST: f1 = 0.67701 | roc = 0.88945\n"
     ]
    }
   ],
   "source": [
    "for md in mds:\n",
    "    _ = crossValidate(md, TRAIN, NFIELDS, rnd=RANDOM_STATE, splits=2)"
   ]
  },
  {
   "cell_type": "markdown",
   "metadata": {
    "colab_type": "text",
    "id": "NDDF06IQh4B8"
   },
   "source": [
    "# Подбор параметров"
   ]
  },
  {
   "cell_type": "code",
   "execution_count": 18,
   "metadata": {
    "colab": {
     "base_uri": "https://localhost:8080/",
     "height": 1000
    },
    "colab_type": "code",
    "executionInfo": {
     "elapsed": 19112440,
     "status": "ok",
     "timestamp": 1584552822604,
     "user": {
      "displayName": "Serge Ahranovich",
      "photoUrl": "",
      "userId": "12639209674703420060"
     },
     "user_tz": 420
    },
    "id": "0wAcKoraOMPB",
    "outputId": "da15e653-7c25-4fc8-ed63-b0b643725c9d",
    "scrolled": false
   },
   "outputs": [
    {
     "data": {
      "text/html": [],
      "text/plain": [
       "<IPython.core.display.HTML object>"
      ]
     },
     "metadata": {
      "tags": []
     },
     "output_type": "display_data"
    },
    {
     "name": "stdout",
     "output_type": "stream",
     "text": [
      "f1 = 0.67778 | roc = 0.89090 | PARAMS: {'learning_rate': 0.1, 'max_depth': 3, 'n_estimators': 10, 'reg_alpha': 0, 'subsample': 0.2}\n",
      "f1 = 0.67780 | roc = 0.89275 | PARAMS: {'learning_rate': 0.1, 'max_depth': 3, 'n_estimators': 10, 'reg_alpha': 0, 'subsample': 0.5}\n",
      "f1 = 0.67788 | roc = 0.89711 | PARAMS: {'learning_rate': 0.1, 'max_depth': 3, 'n_estimators': 10, 'reg_alpha': 0, 'subsample': 1}\n",
      "f1 = 0.67778 | roc = 0.89100 | PARAMS: {'learning_rate': 0.1, 'max_depth': 3, 'n_estimators': 10, 'reg_alpha': 0.1, 'subsample': 0.2}\n",
      "f1 = 0.67780 | roc = 0.89275 | PARAMS: {'learning_rate': 0.1, 'max_depth': 3, 'n_estimators': 10, 'reg_alpha': 0.1, 'subsample': 0.5}\n",
      "f1 = 0.67788 | roc = 0.89711 | PARAMS: {'learning_rate': 0.1, 'max_depth': 3, 'n_estimators': 10, 'reg_alpha': 0.1, 'subsample': 1}\n",
      "f1 = 0.67778 | roc = 0.89316 | PARAMS: {'learning_rate': 0.1, 'max_depth': 3, 'n_estimators': 100, 'reg_alpha': 0, 'subsample': 0.2}\n",
      "f1 = 0.67777 | roc = 0.89162 | PARAMS: {'learning_rate': 0.1, 'max_depth': 3, 'n_estimators': 100, 'reg_alpha': 0, 'subsample': 0.5}\n",
      "f1 = 0.67774 | roc = 0.89438 | PARAMS: {'learning_rate': 0.1, 'max_depth': 3, 'n_estimators': 100, 'reg_alpha': 0, 'subsample': 1}\n",
      "f1 = 0.67773 | roc = 0.89288 | PARAMS: {'learning_rate': 0.1, 'max_depth': 3, 'n_estimators': 100, 'reg_alpha': 0.1, 'subsample': 0.2}\n",
      "f1 = 0.67773 | roc = 0.89131 | PARAMS: {'learning_rate': 0.1, 'max_depth': 3, 'n_estimators': 100, 'reg_alpha': 0.1, 'subsample': 0.5}\n",
      "f1 = 0.67776 | roc = 0.89375 | PARAMS: {'learning_rate': 0.1, 'max_depth': 3, 'n_estimators': 100, 'reg_alpha': 0.1, 'subsample': 1}\n",
      "f1 = 0.67768 | roc = 0.89114 | PARAMS: {'learning_rate': 0.1, 'max_depth': 3, 'n_estimators': 200, 'reg_alpha': 0, 'subsample': 0.2}\n",
      "f1 = 0.67777 | roc = 0.89225 | PARAMS: {'learning_rate': 0.1, 'max_depth': 3, 'n_estimators': 200, 'reg_alpha': 0, 'subsample': 0.5}\n",
      "f1 = 0.67777 | roc = 0.89391 | PARAMS: {'learning_rate': 0.1, 'max_depth': 3, 'n_estimators': 200, 'reg_alpha': 0, 'subsample': 1}\n",
      "f1 = 0.67761 | roc = 0.89220 | PARAMS: {'learning_rate': 0.1, 'max_depth': 3, 'n_estimators': 200, 'reg_alpha': 0.1, 'subsample': 0.2}\n",
      "f1 = 0.67747 | roc = 0.89096 | PARAMS: {'learning_rate': 0.1, 'max_depth': 3, 'n_estimators': 200, 'reg_alpha': 0.1, 'subsample': 0.5}\n",
      "f1 = 0.67765 | roc = 0.89398 | PARAMS: {'learning_rate': 0.1, 'max_depth': 3, 'n_estimators': 200, 'reg_alpha': 0.1, 'subsample': 1}\n",
      "f1 = 0.67782 | roc = 0.88229 | PARAMS: {'learning_rate': 0.1, 'max_depth': 5, 'n_estimators': 10, 'reg_alpha': 0, 'subsample': 0.2}\n",
      "f1 = 0.67777 | roc = 0.89251 | PARAMS: {'learning_rate': 0.1, 'max_depth': 5, 'n_estimators': 10, 'reg_alpha': 0, 'subsample': 0.5}\n",
      "f1 = 0.67792 | roc = 0.89168 | PARAMS: {'learning_rate': 0.1, 'max_depth': 5, 'n_estimators': 10, 'reg_alpha': 0, 'subsample': 1}\n",
      "f1 = 0.67779 | roc = 0.88201 | PARAMS: {'learning_rate': 0.1, 'max_depth': 5, 'n_estimators': 10, 'reg_alpha': 0.1, 'subsample': 0.2}\n",
      "f1 = 0.67779 | roc = 0.89170 | PARAMS: {'learning_rate': 0.1, 'max_depth': 5, 'n_estimators': 10, 'reg_alpha': 0.1, 'subsample': 0.5}\n",
      "f1 = 0.67799 | roc = 0.89219 | PARAMS: {'learning_rate': 0.1, 'max_depth': 5, 'n_estimators': 10, 'reg_alpha': 0.1, 'subsample': 1}\n",
      "f1 = 0.67764 | roc = 0.89186 | PARAMS: {'learning_rate': 0.1, 'max_depth': 5, 'n_estimators': 100, 'reg_alpha': 0, 'subsample': 0.2}\n",
      "f1 = 0.67768 | roc = 0.89303 | PARAMS: {'learning_rate': 0.1, 'max_depth': 5, 'n_estimators': 100, 'reg_alpha': 0, 'subsample': 0.5}\n",
      "f1 = 0.67739 | roc = 0.89686 | PARAMS: {'learning_rate': 0.1, 'max_depth': 5, 'n_estimators': 100, 'reg_alpha': 0, 'subsample': 1}\n",
      "f1 = 0.67764 | roc = 0.89143 | PARAMS: {'learning_rate': 0.1, 'max_depth': 5, 'n_estimators': 100, 'reg_alpha': 0.1, 'subsample': 0.2}\n",
      "f1 = 0.67742 | roc = 0.89208 | PARAMS: {'learning_rate': 0.1, 'max_depth': 5, 'n_estimators': 100, 'reg_alpha': 0.1, 'subsample': 0.5}\n",
      "f1 = 0.67752 | roc = 0.89822 | PARAMS: {'learning_rate': 0.1, 'max_depth': 5, 'n_estimators': 100, 'reg_alpha': 0.1, 'subsample': 1}\n",
      "f1 = 0.67734 | roc = 0.89149 | PARAMS: {'learning_rate': 0.1, 'max_depth': 5, 'n_estimators': 200, 'reg_alpha': 0, 'subsample': 0.2}\n",
      "f1 = 0.67749 | roc = 0.89485 | PARAMS: {'learning_rate': 0.1, 'max_depth': 5, 'n_estimators': 200, 'reg_alpha': 0, 'subsample': 0.5}\n",
      "f1 = 0.67734 | roc = 0.89618 | PARAMS: {'learning_rate': 0.1, 'max_depth': 5, 'n_estimators': 200, 'reg_alpha': 0, 'subsample': 1}\n",
      "f1 = 0.67758 | roc = 0.89156 | PARAMS: {'learning_rate': 0.1, 'max_depth': 5, 'n_estimators': 200, 'reg_alpha': 0.1, 'subsample': 0.2}\n",
      "f1 = 0.67736 | roc = 0.89336 | PARAMS: {'learning_rate': 0.1, 'max_depth': 5, 'n_estimators': 200, 'reg_alpha': 0.1, 'subsample': 0.5}\n",
      "f1 = 0.67727 | roc = 0.89719 | PARAMS: {'learning_rate': 0.1, 'max_depth': 5, 'n_estimators': 200, 'reg_alpha': 0.1, 'subsample': 1}\n",
      "f1 = 0.67771 | roc = 0.88562 | PARAMS: {'learning_rate': 0.1, 'max_depth': 10, 'n_estimators': 10, 'reg_alpha': 0, 'subsample': 0.2}\n",
      "f1 = 0.67754 | roc = 0.89065 | PARAMS: {'learning_rate': 0.1, 'max_depth': 10, 'n_estimators': 10, 'reg_alpha': 0, 'subsample': 0.5}\n",
      "f1 = 0.67678 | roc = 0.89193 | PARAMS: {'learning_rate': 0.1, 'max_depth': 10, 'n_estimators': 10, 'reg_alpha': 0, 'subsample': 1}\n",
      "f1 = 0.67761 | roc = 0.88855 | PARAMS: {'learning_rate': 0.1, 'max_depth': 10, 'n_estimators': 10, 'reg_alpha': 0.1, 'subsample': 0.2}\n",
      "f1 = 0.67756 | roc = 0.88782 | PARAMS: {'learning_rate': 0.1, 'max_depth': 10, 'n_estimators': 10, 'reg_alpha': 0.1, 'subsample': 0.5}\n",
      "f1 = 0.67682 | roc = 0.89423 | PARAMS: {'learning_rate': 0.1, 'max_depth': 10, 'n_estimators': 10, 'reg_alpha': 0.1, 'subsample': 1}\n",
      "f1 = 0.67727 | roc = 0.88843 | PARAMS: {'learning_rate': 0.1, 'max_depth': 10, 'n_estimators': 100, 'reg_alpha': 0, 'subsample': 0.2}\n",
      "f1 = 0.67725 | roc = 0.89249 | PARAMS: {'learning_rate': 0.1, 'max_depth': 10, 'n_estimators': 100, 'reg_alpha': 0, 'subsample': 0.5}\n",
      "f1 = 0.67739 | roc = 0.89006 | PARAMS: {'learning_rate': 0.1, 'max_depth': 10, 'n_estimators': 100, 'reg_alpha': 0, 'subsample': 1}\n",
      "f1 = 0.67652 | roc = 0.89128 | PARAMS: {'learning_rate': 0.1, 'max_depth': 10, 'n_estimators': 100, 'reg_alpha': 0.1, 'subsample': 0.2}\n",
      "f1 = 0.67765 | roc = 0.89215 | PARAMS: {'learning_rate': 0.1, 'max_depth': 10, 'n_estimators': 100, 'reg_alpha': 0.1, 'subsample': 0.5}\n",
      "f1 = 0.67726 | roc = 0.89311 | PARAMS: {'learning_rate': 0.1, 'max_depth': 10, 'n_estimators': 100, 'reg_alpha': 0.1, 'subsample': 1}\n",
      "f1 = 0.67053 | roc = 0.88708 | PARAMS: {'learning_rate': 0.1, 'max_depth': 10, 'n_estimators': 200, 'reg_alpha': 0, 'subsample': 0.2}\n",
      "f1 = 0.67691 | roc = 0.89158 | PARAMS: {'learning_rate': 0.1, 'max_depth': 10, 'n_estimators': 200, 'reg_alpha': 0, 'subsample': 0.5}\n",
      "f1 = 0.67736 | roc = 0.89019 | PARAMS: {'learning_rate': 0.1, 'max_depth': 10, 'n_estimators': 200, 'reg_alpha': 0, 'subsample': 1}\n",
      "f1 = 0.67206 | roc = 0.88804 | PARAMS: {'learning_rate': 0.1, 'max_depth': 10, 'n_estimators': 200, 'reg_alpha': 0.1, 'subsample': 0.2}\n",
      "f1 = 0.67710 | roc = 0.89004 | PARAMS: {'learning_rate': 0.1, 'max_depth': 10, 'n_estimators': 200, 'reg_alpha': 0.1, 'subsample': 0.5}\n",
      "f1 = 0.67699 | roc = 0.89312 | PARAMS: {'learning_rate': 0.1, 'max_depth': 10, 'n_estimators': 200, 'reg_alpha': 0.1, 'subsample': 1}\n",
      "f1 = 0.67780 | roc = 0.88634 | PARAMS: {'learning_rate': 0.03, 'max_depth': 3, 'n_estimators': 10, 'reg_alpha': 0, 'subsample': 0.2}\n",
      "f1 = 0.67800 | roc = 0.89044 | PARAMS: {'learning_rate': 0.03, 'max_depth': 3, 'n_estimators': 10, 'reg_alpha': 0, 'subsample': 0.5}\n",
      "f1 = 0.67800 | roc = 0.87849 | PARAMS: {'learning_rate': 0.03, 'max_depth': 3, 'n_estimators': 10, 'reg_alpha': 0, 'subsample': 1}\n",
      "f1 = 0.67780 | roc = 0.88634 | PARAMS: {'learning_rate': 0.03, 'max_depth': 3, 'n_estimators': 10, 'reg_alpha': 0.1, 'subsample': 0.2}\n",
      "f1 = 0.67800 | roc = 0.89044 | PARAMS: {'learning_rate': 0.03, 'max_depth': 3, 'n_estimators': 10, 'reg_alpha': 0.1, 'subsample': 0.5}\n",
      "f1 = 0.67800 | roc = 0.87865 | PARAMS: {'learning_rate': 0.03, 'max_depth': 3, 'n_estimators': 10, 'reg_alpha': 0.1, 'subsample': 1}\n",
      "f1 = 0.67780 | roc = 0.89763 | PARAMS: {'learning_rate': 0.03, 'max_depth': 3, 'n_estimators': 100, 'reg_alpha': 0, 'subsample': 0.2}\n",
      "f1 = 0.67780 | roc = 0.89663 | PARAMS: {'learning_rate': 0.03, 'max_depth': 3, 'n_estimators': 100, 'reg_alpha': 0, 'subsample': 0.5}\n",
      "f1 = 0.67780 | roc = 0.89824 | PARAMS: {'learning_rate': 0.03, 'max_depth': 3, 'n_estimators': 100, 'reg_alpha': 0, 'subsample': 1}\n",
      "f1 = 0.67780 | roc = 0.89768 | PARAMS: {'learning_rate': 0.03, 'max_depth': 3, 'n_estimators': 100, 'reg_alpha': 0.1, 'subsample': 0.2}\n",
      "f1 = 0.67780 | roc = 0.89663 | PARAMS: {'learning_rate': 0.03, 'max_depth': 3, 'n_estimators': 100, 'reg_alpha': 0.1, 'subsample': 0.5}\n",
      "f1 = 0.67780 | roc = 0.89820 | PARAMS: {'learning_rate': 0.03, 'max_depth': 3, 'n_estimators': 100, 'reg_alpha': 0.1, 'subsample': 1}\n",
      "f1 = 0.67780 | roc = 0.89720 | PARAMS: {'learning_rate': 0.03, 'max_depth': 3, 'n_estimators': 200, 'reg_alpha': 0, 'subsample': 0.2}\n",
      "f1 = 0.67780 | roc = 0.89793 | PARAMS: {'learning_rate': 0.03, 'max_depth': 3, 'n_estimators': 200, 'reg_alpha': 0, 'subsample': 0.5}\n",
      "f1 = 0.67777 | roc = 0.89660 | PARAMS: {'learning_rate': 0.03, 'max_depth': 3, 'n_estimators': 200, 'reg_alpha': 0, 'subsample': 1}\n",
      "f1 = 0.67780 | roc = 0.89763 | PARAMS: {'learning_rate': 0.03, 'max_depth': 3, 'n_estimators': 200, 'reg_alpha': 0.1, 'subsample': 0.2}\n",
      "f1 = 0.67780 | roc = 0.89814 | PARAMS: {'learning_rate': 0.03, 'max_depth': 3, 'n_estimators': 200, 'reg_alpha': 0.1, 'subsample': 0.5}\n",
      "f1 = 0.67779 | roc = 0.89431 | PARAMS: {'learning_rate': 0.03, 'max_depth': 3, 'n_estimators': 200, 'reg_alpha': 0.1, 'subsample': 1}\n",
      "f1 = 0.67779 | roc = 0.87958 | PARAMS: {'learning_rate': 0.03, 'max_depth': 5, 'n_estimators': 10, 'reg_alpha': 0, 'subsample': 0.2}\n",
      "f1 = 0.67780 | roc = 0.88508 | PARAMS: {'learning_rate': 0.03, 'max_depth': 5, 'n_estimators': 10, 'reg_alpha': 0, 'subsample': 0.5}\n",
      "f1 = 0.67799 | roc = 0.89254 | PARAMS: {'learning_rate': 0.03, 'max_depth': 5, 'n_estimators': 10, 'reg_alpha': 0, 'subsample': 1}\n",
      "f1 = 0.67779 | roc = 0.87965 | PARAMS: {'learning_rate': 0.03, 'max_depth': 5, 'n_estimators': 10, 'reg_alpha': 0.1, 'subsample': 0.2}\n",
      "f1 = 0.67780 | roc = 0.88570 | PARAMS: {'learning_rate': 0.03, 'max_depth': 5, 'n_estimators': 10, 'reg_alpha': 0.1, 'subsample': 0.5}\n",
      "f1 = 0.67799 | roc = 0.89254 | PARAMS: {'learning_rate': 0.03, 'max_depth': 5, 'n_estimators': 10, 'reg_alpha': 0.1, 'subsample': 1}\n",
      "f1 = 0.67778 | roc = 0.89311 | PARAMS: {'learning_rate': 0.03, 'max_depth': 5, 'n_estimators': 100, 'reg_alpha': 0, 'subsample': 0.2}\n",
      "f1 = 0.67778 | roc = 0.89468 | PARAMS: {'learning_rate': 0.03, 'max_depth': 5, 'n_estimators': 100, 'reg_alpha': 0, 'subsample': 0.5}\n",
      "f1 = 0.67780 | roc = 0.89796 | PARAMS: {'learning_rate': 0.03, 'max_depth': 5, 'n_estimators': 100, 'reg_alpha': 0, 'subsample': 1}\n",
      "f1 = 0.67778 | roc = 0.89301 | PARAMS: {'learning_rate': 0.03, 'max_depth': 5, 'n_estimators': 100, 'reg_alpha': 0.1, 'subsample': 0.2}\n",
      "f1 = 0.67778 | roc = 0.89531 | PARAMS: {'learning_rate': 0.03, 'max_depth': 5, 'n_estimators': 100, 'reg_alpha': 0.1, 'subsample': 0.5}\n",
      "f1 = 0.67779 | roc = 0.89711 | PARAMS: {'learning_rate': 0.03, 'max_depth': 5, 'n_estimators': 100, 'reg_alpha': 0.1, 'subsample': 1}\n",
      "f1 = 0.67778 | roc = 0.89536 | PARAMS: {'learning_rate': 0.03, 'max_depth': 5, 'n_estimators': 200, 'reg_alpha': 0, 'subsample': 0.2}\n",
      "f1 = 0.67775 | roc = 0.89508 | PARAMS: {'learning_rate': 0.03, 'max_depth': 5, 'n_estimators': 200, 'reg_alpha': 0, 'subsample': 0.5}\n",
      "f1 = 0.67758 | roc = 0.89924 | PARAMS: {'learning_rate': 0.03, 'max_depth': 5, 'n_estimators': 200, 'reg_alpha': 0, 'subsample': 1}\n",
      "f1 = 0.67778 | roc = 0.89527 | PARAMS: {'learning_rate': 0.03, 'max_depth': 5, 'n_estimators': 200, 'reg_alpha': 0.1, 'subsample': 0.2}\n",
      "f1 = 0.67777 | roc = 0.89577 | PARAMS: {'learning_rate': 0.03, 'max_depth': 5, 'n_estimators': 200, 'reg_alpha': 0.1, 'subsample': 0.5}\n",
      "f1 = 0.67755 | roc = 0.89899 | PARAMS: {'learning_rate': 0.03, 'max_depth': 5, 'n_estimators': 200, 'reg_alpha': 0.1, 'subsample': 1}\n",
      "f1 = 0.67764 | roc = 0.89154 | PARAMS: {'learning_rate': 0.03, 'max_depth': 10, 'n_estimators': 10, 'reg_alpha': 0, 'subsample': 0.2}\n",
      "f1 = 0.67694 | roc = 0.89044 | PARAMS: {'learning_rate': 0.03, 'max_depth': 10, 'n_estimators': 10, 'reg_alpha': 0, 'subsample': 0.5}\n",
      "f1 = 0.66300 | roc = 0.89280 | PARAMS: {'learning_rate': 0.03, 'max_depth': 10, 'n_estimators': 10, 'reg_alpha': 0, 'subsample': 1}\n",
      "f1 = 0.67765 | roc = 0.89168 | PARAMS: {'learning_rate': 0.03, 'max_depth': 10, 'n_estimators': 10, 'reg_alpha': 0.1, 'subsample': 0.2}\n",
      "f1 = 0.67697 | roc = 0.88999 | PARAMS: {'learning_rate': 0.03, 'max_depth': 10, 'n_estimators': 10, 'reg_alpha': 0.1, 'subsample': 0.5}\n",
      "f1 = 0.66302 | roc = 0.89358 | PARAMS: {'learning_rate': 0.03, 'max_depth': 10, 'n_estimators': 10, 'reg_alpha': 0.1, 'subsample': 1}\n",
      "f1 = 0.67781 | roc = 0.89223 | PARAMS: {'learning_rate': 0.03, 'max_depth': 10, 'n_estimators': 100, 'reg_alpha': 0, 'subsample': 0.2}\n",
      "f1 = 0.67774 | roc = 0.89507 | PARAMS: {'learning_rate': 0.03, 'max_depth': 10, 'n_estimators': 100, 'reg_alpha': 0, 'subsample': 0.5}\n",
      "f1 = 0.67763 | roc = 0.89479 | PARAMS: {'learning_rate': 0.03, 'max_depth': 10, 'n_estimators': 100, 'reg_alpha': 0, 'subsample': 1}\n",
      "f1 = 0.67777 | roc = 0.89291 | PARAMS: {'learning_rate': 0.03, 'max_depth': 10, 'n_estimators': 100, 'reg_alpha': 0.1, 'subsample': 0.2}\n",
      "f1 = 0.67772 | roc = 0.89429 | PARAMS: {'learning_rate': 0.03, 'max_depth': 10, 'n_estimators': 100, 'reg_alpha': 0.1, 'subsample': 0.5}\n",
      "f1 = 0.67774 | roc = 0.89535 | PARAMS: {'learning_rate': 0.03, 'max_depth': 10, 'n_estimators': 100, 'reg_alpha': 0.1, 'subsample': 1}\n",
      "f1 = 0.67776 | roc = 0.89428 | PARAMS: {'learning_rate': 0.03, 'max_depth': 10, 'n_estimators': 200, 'reg_alpha': 0, 'subsample': 0.2}\n",
      "f1 = 0.67773 | roc = 0.89603 | PARAMS: {'learning_rate': 0.03, 'max_depth': 10, 'n_estimators': 200, 'reg_alpha': 0, 'subsample': 0.5}\n",
      "f1 = 0.67765 | roc = 0.89420 | PARAMS: {'learning_rate': 0.03, 'max_depth': 10, 'n_estimators': 200, 'reg_alpha': 0, 'subsample': 1}\n",
      "f1 = 0.67769 | roc = 0.89250 | PARAMS: {'learning_rate': 0.03, 'max_depth': 10, 'n_estimators': 200, 'reg_alpha': 0.1, 'subsample': 0.2}\n",
      "f1 = 0.67774 | roc = 0.89649 | PARAMS: {'learning_rate': 0.03, 'max_depth': 10, 'n_estimators': 200, 'reg_alpha': 0.1, 'subsample': 0.5}\n",
      "f1 = 0.67760 | roc = 0.89408 | PARAMS: {'learning_rate': 0.03, 'max_depth': 10, 'n_estimators': 200, 'reg_alpha': 0.1, 'subsample': 1}\n"
     ]
    }
   ],
   "source": [
    "MODEL = XGBClassifier\n",
    "PARAMS = {\n",
    "    'random_state': RANDOM_STATE,\n",
    "    'n_jobs': -1,\n",
    "}\n",
    "\n",
    "md = MODEL(**PARAMS)\n",
    "param_grid = {\n",
    "    'max_depth': [3,5,10],\n",
    "    'learning_rate': [0.1, 0.03],\n",
    "    'n_estimators': [10, 100, 200],\n",
    "    'reg_alpha': [0, 0.1],\n",
    "    'subsample': [0.2, 0.5, 1],\n",
    "}\n",
    "\n",
    "f1, r, PARAMS = gridSeach(md, param_grid, TRAIN, FIELDS, cv_splits=2)"
   ]
  },
  {
   "cell_type": "markdown",
   "metadata": {
    "colab_type": "text",
    "id": "93FQAgqkkmbL"
   },
   "source": [
    "# Итоговая модель"
   ]
  },
  {
   "cell_type": "code",
   "execution_count": 19,
   "metadata": {
    "colab": {
     "base_uri": "https://localhost:8080/",
     "height": 1000
    },
    "colab_type": "code",
    "executionInfo": {
     "elapsed": 283477,
     "status": "ok",
     "timestamp": 1584553106103,
     "user": {
      "displayName": "Serge Ahranovich",
      "photoUrl": "",
      "userId": "12639209674703420060"
     },
     "user_tz": 420
    },
    "id": "fITq1xHHOMHZ",
    "outputId": "1b6bdb80-eae5-43f5-df51-d0b56af094df"
   },
   "outputs": [
    {
     "name": "stdout",
     "output_type": "stream",
     "text": [
      "----------------------------------------------------------------------------------------------------\n",
      "F1 (test) = 0.69650    roc (test) = 0.92272   roc (train) = 0.89830\n",
      "----------------------------------------------------------------------------------------------------\n",
      "              precision    recall  f1-score   support\n",
      "\n",
      "         0.0       1.00      0.85      0.91     77305\n",
      "         1.0       0.32      0.96      0.48      5795\n",
      "\n",
      "    accuracy                           0.85     83100\n",
      "   macro avg       0.66      0.90      0.70     83100\n",
      "weighted avg       0.95      0.85      0.88     83100\n",
      "\n"
     ]
    },
    {
     "data": {
      "image/png": "[encoded data removed]",
      "text/plain": [
       "<Figure size 432x288 with 1 Axes>"
      ]
     },
     "metadata": {
      "tags": []
     },
     "output_type": "display_data"
    },
    {
     "data": {
      "image/png": "[encoded data removed]",
      "text/plain": [
       "<Figure size 432x288 with 1 Axes>"
      ]
     },
     "metadata": {
      "tags": []
     },
     "output_type": "display_data"
    },
    {
     "name": "stdout",
     "output_type": "stream",
     "text": [
      "Normalized confusion matrix\n",
      "[[0.84533989 0.15466011]\n",
      " [0.03744607 0.96255393]]\n"
     ]
    },
    {
     "data": {
      "image/png": "[encoded data removed]",
      "text/plain": [
       "<Figure size 432x288 with 1 Axes>"
      ]
     },
     "metadata": {
      "tags": []
     },
     "output_type": "display_data"
    }
   ],
   "source": [
    "report(MODEL(**PARAMS), TRAIN, FIELDS)"
   ]
  },
  {
   "cell_type": "markdown",
   "metadata": {
    "colab_type": "text",
    "id": "dXC1FUXCku4A"
   },
   "source": [
    "# Сохраняем результат"
   ]
  },
  {
   "cell_type": "code",
   "execution_count": 0,
   "metadata": {
    "colab": {},
    "colab_type": "code",
    "id": "XbOU1YzZOL-e"
   },
   "outputs": [],
   "source": [
    "md = trainModel(MODEL(**PARAMS), TRAIN, FIELDS)\n",
    "TEST['target'] = md.predict_proba(TEST[FIELDS])[:,1]\n",
    "result = TEST[['index', 'target']].set_index('index')"
   ]
  },
  {
   "cell_type": "code",
   "execution_count": 0,
   "metadata": {
    "colab": {},
    "colab_type": "code",
    "id": "-DvjjKEBOL4q"
   },
   "outputs": [],
   "source": [
    "dms = pd.read_csv(PATH+'data_test.csv', sep=',', index_col=0)\n",
    "dms['target'] = np.NaN\n",
    "dms.update(result)\n",
    "dms.to_csv(PATH+'answers_test.csv', sep=',')\n",
    "dms['target'] = np.round(dms['target'])\n",
    "dms.to_csv(PATH+'answers_test_class.csv', sep=',')"
   ]
  }
 ],
 "metadata": {
  "accelerator": "GPU",
  "colab": {
   "collapsed_sections": [
    "cna3UI6_mc3E",
    "A_DAppPhmjc6",
    "4HrWL2vt8l7v",
    "z8sAWYbT8l8B",
    "FQ4ynarTGlMl",
    "O7nU4DyVFhjx"
   ],
   "machine_shape": "hm",
   "name": "kurs.ipynb",
   "provenance": [],
   "toc_visible": true
  },
  "kernelspec": {
   "display_name": "Python 3",
   "language": "python",
   "name": "python3"
  },
  "language_info": {
   "codemirror_mode": {
    "name": "ipython",
    "version": 3
   },
   "file_extension": ".py",
   "mimetype": "text/x-python",
   "name": "python",
   "nbconvert_exporter": "python",
   "pygments_lexer": "ipython3",
   "version": "3.7.1"
  },
  "toc": {
   "base_numbering": 1,
   "nav_menu": {},
   "number_sections": true,
   "sideBar": true,
   "skip_h1_title": false,
   "title_cell": "Table of Contents",
   "title_sidebar": "Contents",
   "toc_cell": false,
   "toc_position": {},
   "toc_section_display": true,
   "toc_window_display": false
  }
 },
 "nbformat": 4,
 "nbformat_minor": 1
}
